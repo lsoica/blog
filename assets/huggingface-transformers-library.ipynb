{
 "cells": [
  {
   "cell_type": "markdown",
   "metadata": {},
   "source": [
    "# Huggingface\n",
    "\n",
    "An open source ML hub providing:\n",
    "\n",
    "- Models\n",
    "- Datasets\n",
    "- Spaces: platform that allow users to build and deploy AI models\n",
    "\n",
    "\n",
    "## Huggingface Transformers Library\n",
    "\n",
    "A python library that makes downloading and training models easy.\n",
    "\n",
    "### Example: Sentiment Analysis\n",
    "\n",
    "Let's say we want do do sentiment analysis. We can use a pipeline to do this:\n"
   ]
  },
  {
   "cell_type": "code",
   "execution_count": null,
   "metadata": {},
   "outputs": [],
   "source": [
    "!pip install gradio"
   ]
  },
  {
   "cell_type": "code",
   "execution_count": 8,
   "metadata": {},
   "outputs": [
    {
     "name": "stderr",
     "output_type": "stream",
     "text": [
      "No model was supplied, defaulted to distilbert/distilbert-base-uncased-finetuned-sst-2-english and revision 714eb0f (https://huggingface.co/distilbert/distilbert-base-uncased-finetuned-sst-2-english).\n",
      "Using a pipeline without specifying a model name and revision in production is not recommended.\n",
      "Hardware accelerator e.g. GPU is available in the environment, but no `device` argument is passed to the `Pipeline` object. Model will be on CPU.\n"
     ]
    },
    {
     "data": {
      "text/plain": [
       "[{'label': 'POSITIVE', 'score': 0.9998855590820312}]"
      ]
     },
     "execution_count": 8,
     "metadata": {},
     "output_type": "execute_result"
    }
   ],
   "source": [
    "from transformers import pipeline\n",
    "pipeline(task=\"sentiment-analysis\")(\"I love this product!\")\n",
    "\n",
    "\n"
   ]
  },
  {
   "cell_type": "code",
   "execution_count": 9,
   "metadata": {},
   "outputs": [
    {
     "name": "stderr",
     "output_type": "stream",
     "text": [
      "No model was supplied, defaulted to distilbert/distilbert-base-uncased-finetuned-sst-2-english and revision 714eb0f (https://huggingface.co/distilbert/distilbert-base-uncased-finetuned-sst-2-english).\n",
      "Using a pipeline without specifying a model name and revision in production is not recommended.\n",
      "Hardware accelerator e.g. GPU is available in the environment, but no `device` argument is passed to the `Pipeline` object. Model will be on CPU.\n"
     ]
    },
    {
     "data": {
      "text/plain": [
       "[{'label': 'NEGATIVE', 'score': 0.9997503161430359}]"
      ]
     },
     "execution_count": 9,
     "metadata": {},
     "output_type": "execute_result"
    }
   ],
   "source": [
    "pipeline(task=\"sentiment-analysis\")(\"I hate this product!\")\n"
   ]
  },
  {
   "cell_type": "markdown",
   "metadata": {},
   "source": [
    "Now let's do the same but specify the model we want to use:\n",
    "\n"
   ]
  },
  {
   "cell_type": "code",
   "execution_count": 11,
   "metadata": {},
   "outputs": [
    {
     "name": "stderr",
     "output_type": "stream",
     "text": [
      "Hardware accelerator e.g. GPU is available in the environment, but no `device` argument is passed to the `Pipeline` object. Model will be on CPU.\n"
     ]
    },
    {
     "data": {
      "text/plain": [
       "[{'label': 'POSITIVE', 'score': 0.9998855590820312}]"
      ]
     },
     "execution_count": 11,
     "metadata": {},
     "output_type": "execute_result"
    }
   ],
   "source": [
    "pipeline(task=\"sentiment-analysis\", model=\"distilbert-base-uncased-finetuned-sst-2-english\")(\"I love this product!\")\n"
   ]
  },
  {
   "cell_type": "markdown",
   "metadata": {},
   "source": [
    "Other tasks:\n",
    "\n",
    "- Question answering\n",
    "- Summarization\n",
    "- Text generation\n",
    "- Named entity recognition\n",
    "- Speech recognition\n",
    "- Text-to-speech\n",
    "\n",
    "[Models](https://huggingface.co/models)\n",
    "\n",
    "[Datasets](https://huggingface.co/datasets)\n",
    "\n",
    "[Spaces](https://huggingface.co/spaces)\n",
    "\n",
    "### Example: Summarization\n"
   ]
  },
  {
   "cell_type": "code",
   "execution_count": 18,
   "metadata": {},
   "outputs": [
    {
     "name": "stdout",
     "output_type": "stream",
     "text": [
      "Hugging Face, Inc. was founded in 2016 by French entrepreneurs Clément Delangue, Julien Chaumond, and Thomas Wolf. The company was named after the HUGGING FACE emoji. In March 2021, Hugging Face raised US$40 million in a Series B funding round. In May 2022, the company announced its Series C funding round led by Coatue and Sequoia.\n"
     ]
    }
   ],
   "source": [
    "summarizer = pipeline(task=\"summarization\", model=\"facebook/bart-large-cnn\", device=\"mps\")\n",
    "\n",
    "text = \"\"\"\n",
    "Hugging Face, Inc. is an American company incorporated under the Delaware General Corporation Law[1] and based in New York City that develops computation tools for building applications using machine learning. It is most notable for its transformers library built for natural language processing applications and its platform that allows users to share machine learning models and datasets and showcase their work.\n",
    "The company was founded in 2016 by French entrepreneurs Clément Delangue, Julien Chaumond, and Thomas Wolf in New York City, originally as a company that developed a chatbot app targeted at teenagers.[2] The company was named after the HUGGING FACE emoji. After open sourcing the model behind the chatbot, the company pivoted to focus on being a platform for machine learning.\n",
    "\n",
    "In March 2021, Hugging Face raised US$40 million in a Series B funding round.[3]\n",
    "\n",
    "On April 28, 2021, the company launched the BigScience Research Workshop in collaboration with several other research groups to release an open large language model.[4] In 2022, the workshop concluded with the announcement of BLOOM, a multilingual large language model with 176 billion parameters.[5][6]\n",
    "\n",
    "In December 2022, the company acquired Gradio, an open source library built for developing machine learning applications in Python.[7]\n",
    "\n",
    "On May 5, 2022, the company announced its Series C funding round led by Coatue and Sequoia.[8] The company received a $2 billion valuation.\n",
    "\n",
    "On August 3, 2022, the company announced the Private Hub, an enterprise version of its public Hugging Face Hub that supports SaaS or on-premises deployment.[9]\n",
    "\"\"\"\n",
    "\n",
    "summarizer_text = summarizer(text, min_length=5, max_length=140)[0][\"summary_text\"]\n",
    "\n",
    "print(summarizer_text)\n"
   ]
  },
  {
   "cell_type": "markdown",
   "metadata": {},
   "source": [
    "### Example: Conversational Chatbot\n",
    "\n"
   ]
  },
  {
   "cell_type": "code",
   "execution_count": 34,
   "metadata": {},
   "outputs": [
    {
     "name": "stderr",
     "output_type": "stream",
     "text": [
      "Some parameters are on the meta device because they were offloaded to the disk.\n"
     ]
    },
    {
     "name": "stdout",
     "output_type": "stream",
     "text": [
      "Sure thing! In New York, there's always something happening. For instance, check out the famous Broadway shows and theaters where you'll find some of the best live performances on Earth. Don't miss the iconic Times Square with its bright lights and bustling crowds. If you're up for an adventure, head over to Central Park for a picnic or just to enjoy the green space. And if you love food, don't forget about the culinary delights that NYC has to offer, from fine dining at Michelin-starred restaurants to street food in the heart of the city. Always have a good time!\n",
      "Oh, those wonderful soup cans! They’re like the unsung heroes of New York City’s culinary scene. Imagine them: little metal boxes filled with delicious broth and vegetables, sitting innocently on someone's doorstep—just waiting to be opened and enjoyed. These humble cans are the perfect example of how even the simplest items can become something special when shared with others.\n",
      "\n",
      "They represent the spirit of generosity and community that is quintessentially American. From their humble beginnings as leftovers thrown into garbage bins, they've grown into beloved staples in many households across the Big Apple. The act of opening one of these cans isn’t just a meal—it’s a connection, a conversation starter, and a reminder that sometimes, all it takes is a little kindness to make life sweeter. So next time you see a soup can, remember the story behind it and appreciate not just the food inside but also the warmth and friendship that come with sharing such simple yet thoughtful gestures.\n"
     ]
    }
   ],
   "source": [
    "chat = [\n",
    "    {\"role\": \"system\", \"content\": \"You are a sassy, wise-cracking robot as imagined by Hollywood circa 1986.\"},\n",
    "    {\"role\": \"user\", \"content\": \"Hey, can you tell me any fun things to do in New York?\"}\n",
    "]\n",
    "\n",
    "import torch\n",
    "from transformers import pipeline\n",
    "\n",
    "pipe = pipeline(\"text-generation\", \"Qwen/Qwen2.5-1.5B-Instruct\", torch_dtype=torch.bfloat16, device_map=\"auto\")\n",
    "response = pipe(chat, max_new_tokens=512)\n",
    "print(response[0]['generated_text'][-1]['content'])\n",
    "\n",
    "chat = response[0]['generated_text']\n",
    "chat.append(\n",
    "    {\"role\": \"user\", \"content\": \"Wait, what's so wild about soup cans?\"}\n",
    ")\n",
    "response = pipe(chat, max_new_tokens=512)\n",
    "print(response[0]['generated_text'][-1]['content'])"
   ]
  },
  {
   "cell_type": "markdown",
   "metadata": {},
   "source": [
    "#### ChatBot UI"
   ]
  },
  {
   "cell_type": "code",
   "execution_count": 41,
   "metadata": {},
   "outputs": [
    {
     "name": "stderr",
     "output_type": "stream",
     "text": [
      "Some parameters are on the meta device because they were offloaded to the disk.\n"
     ]
    },
    {
     "name": "stdout",
     "output_type": "stream",
     "text": [
      "* Running on local URL:  http://127.0.0.1:7865\n",
      "\n",
      "To create a public link, set `share=True` in `launch()`.\n"
     ]
    },
    {
     "data": {
      "text/html": [
       "<div><iframe src=\"http://127.0.0.1:7865/\" width=\"100%\" height=\"500\" allow=\"autoplay; camera; microphone; clipboard-read; clipboard-write;\" frameborder=\"0\" allowfullscreen></iframe></div>"
      ],
      "text/plain": [
       "<IPython.core.display.HTML object>"
      ]
     },
     "metadata": {},
     "output_type": "display_data"
    },
    {
     "data": {
      "text/plain": []
     },
     "execution_count": 41,
     "metadata": {},
     "output_type": "execute_result"
    },
    {
     "name": "stdout",
     "output_type": "stream",
     "text": [
      "[{'role': 'system', 'content': 'You are a ChatBot.'}, {'role': 'user', 'content': 'Hi'}, {'role': 'assistant', 'content': 'Hello! How can I assist you today?'}]\n",
      "[{'role': 'system', 'content': 'You are a ChatBot.'}, {'role': 'user', 'content': 'Hi'}, {'role': 'assistant', 'content': 'Hello! How can I assist you today?'}, {'role': 'user', 'content': 'What do you know about new york ?'}, {'role': 'assistant', 'content': \"New York City is the most populous city in the United States and one of its most important economic, cultural, and political centers. It's home to many famous landmarks such as the Statue of Liberty, Central Park, Times Square, and the Empire State Building.\\n\\nThe city has a diverse population with people from all over the world living there. New Yorkers are known for their energy, creativity, and love of food.\\n\\nIn addition to its iconic landmarks, New York City also boasts an array of museums, theaters, and entertainment venues. The city is home to some of the largest financial institutions in the world and is considered the global capital of finance.\\n\\nOverall, New York City is a vibrant and exciting place that offers something for everyone.\"}]\n",
      "[{'role': 'system', 'content': 'You are a ChatBot.'}, {'role': 'user', 'content': 'Hi'}, {'role': 'assistant', 'content': 'Hello! How can I assist you today?'}, {'role': 'user', 'content': 'What do you know about new york ?'}, {'role': 'assistant', 'content': \"New York City is the most populous city in the United States and one of its most important economic, cultural, and political centers. It's home to many famous landmarks such as the Statue of Liberty, Central Park, Times Square, and the Empire State Building.\\n\\nThe city has a diverse population with people from all over the world living there. New Yorkers are known for their energy, creativity, and love of food.\\n\\nIn addition to its iconic landmarks, New York City also boasts an array of museums, theaters, and entertainment venues. The city is home to some of the largest financial institutions in the world and is considered the global capital of finance.\\n\\nOverall, New York City is a vibrant and exciting place that offers something for everyone.\"}, {'role': 'user', 'content': 'what do you mean by diverse population?'}, {'role': 'assistant', 'content': 'Diverse population refers to the variety of ethnicities, nationalities, religions, genders, ages, abilities, sexual orientations, etc., that make up a particular group or area. In the case of New York City, it means that the population includes people from different backgrounds, cultures, and experiences who come together to form a unique community.\\n\\nThis diversity creates opportunities for cross-cultural exchange and understanding, as well as challenges related to social justice and inclusion. However, it also requires individuals and communities to work towards creating an inclusive environment where everyone feels valued and respected.'}]\n",
      "[{'role': 'system', 'content': 'You are a ChatBot.'}, {'role': 'user', 'content': 'Hi'}, {'role': 'assistant', 'content': 'Hello! How can I assist you today?'}, {'role': 'user', 'content': 'What do you know about new york ?'}, {'role': 'assistant', 'content': \"New York City is the most populous city in the United States and one of its most important economic, cultural, and political centers. It's home to many famous landmarks such as the Statue of Liberty, Central Park, Times Square, and the Empire State Building.\\n\\nThe city has a diverse population with people from all over the world living there. New Yorkers are known for their energy, creativity, and love of food.\\n\\nIn addition to its iconic landmarks, New York City also boasts an array of museums, theaters, and entertainment venues. The city is home to some of the largest financial institutions in the world and is considered the global capital of finance.\\n\\nOverall, New York City is a vibrant and exciting place that offers something for everyone.\"}, {'role': 'user', 'content': 'what do you mean by diverse population?'}, {'role': 'assistant', 'content': 'Diverse population refers to the variety of ethnicities, nationalities, religions, genders, ages, abilities, sexual orientations, etc., that make up a particular group or area. In the case of New York City, it means that the population includes people from different backgrounds, cultures, and experiences who come together to form a unique community.\\n\\nThis diversity creates opportunities for cross-cultural exchange and understanding, as well as challenges related to social justice and inclusion. However, it also requires individuals and communities to work towards creating an inclusive environment where everyone feels valued and respected.'}, {'role': 'user', 'content': 'list top 5 religions'}, {'role': 'assistant', 'content': 'Here are five major religions:\\n\\n1. Christianity: A monotheistic religion based on the teachings of Jesus Christ.\\n2. Islam: A monotheistic religion based on the teachings of Muhammad.\\n3. Hinduism: An ancient religion originating in India that emphasizes harmony between the individual soul (atman) and the universal soul (paramatman).\\n4. Buddhism: A religion founded by Siddhartha Gautama, often referred to as the Buddha, which teaches that suffering arises from attachment to desires and ignorance.\\n5. Judaism: A monotheistic religion based on the Torah, which was given to Moses at Mount Sinai.'}]\n",
      "[{'role': 'system', 'content': 'You are a ChatBot.'}, {'role': 'user', 'content': 'Hi'}, {'role': 'assistant', 'content': 'Hello! How can I assist you today?'}, {'role': 'user', 'content': 'What do you know about new york ?'}, {'role': 'assistant', 'content': \"New York City is the most populous city in the United States and one of its most important economic, cultural, and political centers. It's home to many famous landmarks such as the Statue of Liberty, Central Park, Times Square, and the Empire State Building.\\n\\nThe city has a diverse population with people from all over the world living there. New Yorkers are known for their energy, creativity, and love of food.\\n\\nIn addition to its iconic landmarks, New York City also boasts an array of museums, theaters, and entertainment venues. The city is home to some of the largest financial institutions in the world and is considered the global capital of finance.\\n\\nOverall, New York City is a vibrant and exciting place that offers something for everyone.\"}, {'role': 'user', 'content': 'what do you mean by diverse population?'}, {'role': 'assistant', 'content': 'Diverse population refers to the variety of ethnicities, nationalities, religions, genders, ages, abilities, sexual orientations, etc., that make up a particular group or area. In the case of New York City, it means that the population includes people from different backgrounds, cultures, and experiences who come together to form a unique community.\\n\\nThis diversity creates opportunities for cross-cultural exchange and understanding, as well as challenges related to social justice and inclusion. However, it also requires individuals and communities to work towards creating an inclusive environment where everyone feels valued and respected.'}, {'role': 'user', 'content': 'list top 5 religions'}, {'role': 'assistant', 'content': 'Here are five major religions:\\n\\n1. Christianity: A monotheistic religion based on the teachings of Jesus Christ.\\n2. Islam: A monotheistic religion based on the teachings of Muhammad.\\n3. Hinduism: An ancient religion originating in India that emphasizes harmony between the individual soul (atman) and the universal soul (paramatman).\\n4. Buddhism: A religion founded by Siddhartha Gautama, often referred to as the Buddha, which teaches that suffering arises from attachment to desires and ignorance.\\n5. Judaism: A monotheistic religion based on the Torah, which was given to Moses at Mount Sinai.'}, {'role': 'user', 'content': 'elaborate on number one '}, {'role': 'assistant', 'content': 'Christianity is a monotheistic religion based on the belief in one God who created the universe and sent his son Jesus Christ to earth to save humanity from sin. Christians believe that Jesus died on the cross to pay for the sins of mankind and that he will return to judge the world. There are several branches of Christianity including Catholicism, Protestantism, Eastern Orthodoxy, and Anglicanism.\\n\\nJesus is believed to be the Son of God and the Messiah prophesied in the Old Testament. He is seen as both fully human and fully divine, and his teachings are central to Christian faith. Many Christians also follow the Bible as their holy book, though they interpret it differently depending on their denomination.\\n\\nChristianity has been practiced since around the first century AD and has spread throughout the world, becoming one of the largest religions in terms of followers.'}]\n"
     ]
    }
   ],
   "source": [
    "import gradio as gr\n",
    "\n",
    "pipe = pipeline(\"text-generation\", \"Qwen/Qwen2.5-1.5B-Instruct\", torch_dtype=torch.bfloat16, device_map=\"auto\")\n",
    "chat = [\n",
    "    {\"role\": \"system\", \"content\": \"You are a ChatBot.\"},\n",
    "]\n",
    "\n",
    "def vanilla_chatbot(message, history):\n",
    "    chat.append(\n",
    "        {\"role\": \"user\", \"content\": message}\n",
    "    )\n",
    "    response = pipe(chat, max_new_tokens=512)\n",
    "    chat.append(response[0]['generated_text'][-1])\n",
    "    print(chat)\n",
    "    return response[0]['generated_text'][-1]['content']\n",
    "\n",
    "demo_chatbot = gr.ChatInterface(vanilla_chatbot, type=\"messages\")\n",
    "\n",
    "demo_chatbot.launch()"
   ]
  },
  {
   "cell_type": "markdown",
   "metadata": {},
   "source": [
    "#### Expose it as an HF Space\n",
    "\n",
    "Go to [Hugging Face Spaces](https://huggingface.co/spaces) and create a new space with \"Gradio\" as the app type.\n",
    "\n",
    "Then copy the code from the Gradio app above and paste it into the app.\n",
    "\n"
   ]
  },
  {
   "cell_type": "code",
   "execution_count": null,
   "metadata": {},
   "outputs": [],
   "source": []
  }
 ],
 "metadata": {
  "kernelspec": {
   "display_name": ".venv",
   "language": "python",
   "name": "python3"
  },
  "language_info": {
   "codemirror_mode": {
    "name": "ipython",
    "version": 3
   },
   "file_extension": ".py",
   "mimetype": "text/x-python",
   "name": "python",
   "nbconvert_exporter": "python",
   "pygments_lexer": "ipython3",
   "version": "3.12.6"
  }
 },
 "nbformat": 4,
 "nbformat_minor": 2
}
