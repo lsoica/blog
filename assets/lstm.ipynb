{
  "cells": [
    {
      "cell_type": "markdown",
      "metadata": {
        "colab_type": "text",
        "id": "view-in-github"
      },
      "source": [
        "<a href=\"https://colab.research.google.com/github/lsoica/blog/blob/main/assets/lstm.ipynb\" target=\"_parent\"><img src=\"https://colab.research.google.com/assets/colab-badge.svg\" alt=\"Open In Colab\"/></a>"
      ]
    },
    {
      "cell_type": "markdown",
      "metadata": {
        "id": "aTOLgsbN69-P"
      },
      "source": [
        "# Stock Forecast with an LSTM NN and PyTorch"
      ]
    },
    {
      "cell_type": "markdown",
      "metadata": {},
      "source": [
        "## Install required packages"
      ]
    },
    {
      "cell_type": "code",
      "execution_count": null,
      "metadata": {},
      "outputs": [],
      "source": [
        "!pip install yfinance scikit-learn\n"
      ]
    },
    {
      "cell_type": "markdown",
      "metadata": {},
      "source": [
        "## Import libraries"
      ]
    },
    {
      "cell_type": "code",
      "execution_count": 82,
      "metadata": {},
      "outputs": [],
      "source": [
        "import numpy as np\n",
        "import matplotlib.pyplot as plt\n",
        "import torch\n",
        "import torch.nn as nn\n",
        "import yfinance as yf\n",
        "import pandas as pd\n",
        "from copy import deepcopy as dc\n",
        "from sklearn.preprocessing import MinMaxScaler"
      ]
    },
    {
      "cell_type": "markdown",
      "metadata": {},
      "source": [
        "## Load the Amazon historical data fro YF"
      ]
    },
    {
      "cell_type": "code",
      "execution_count": 87,
      "metadata": {},
      "outputs": [
        {
          "name": "stderr",
          "output_type": "stream",
          "text": [
            "[*********************100%***********************]  1 of 1 completed\n"
          ]
        }
      ],
      "source": [
        "ticker = 'AMZN'\n",
        "amazon_stock_data = yf.download(ticker, start=\"1997-05-20\", end=\"2024-10-07\")\n",
        "amazon_stock_data.to_csv('AMZN.csv')\n",
        "data = pd.read_csv('AMZN.csv')"
      ]
    },
    {
      "cell_type": "code",
      "execution_count": 88,
      "metadata": {},
      "outputs": [
        {
          "data": {
            "text/html": [
              "<div>\n",
              "<style scoped>\n",
              "    .dataframe tbody tr th:only-of-type {\n",
              "        vertical-align: middle;\n",
              "    }\n",
              "\n",
              "    .dataframe tbody tr th {\n",
              "        vertical-align: top;\n",
              "    }\n",
              "\n",
              "    .dataframe thead th {\n",
              "        text-align: right;\n",
              "    }\n",
              "</style>\n",
              "<table border=\"1\" class=\"dataframe\">\n",
              "  <thead>\n",
              "    <tr style=\"text-align: right;\">\n",
              "      <th></th>\n",
              "      <th>Date</th>\n",
              "      <th>Open</th>\n",
              "      <th>High</th>\n",
              "      <th>Low</th>\n",
              "      <th>Close</th>\n",
              "      <th>Adj Close</th>\n",
              "      <th>Volume</th>\n",
              "    </tr>\n",
              "  </thead>\n",
              "  <tbody>\n",
              "    <tr>\n",
              "      <th>0</th>\n",
              "      <td>1997-05-20</td>\n",
              "      <td>0.086458</td>\n",
              "      <td>0.087500</td>\n",
              "      <td>0.081771</td>\n",
              "      <td>0.081771</td>\n",
              "      <td>0.081771</td>\n",
              "      <td>109344000</td>\n",
              "    </tr>\n",
              "    <tr>\n",
              "      <th>1</th>\n",
              "      <td>1997-05-21</td>\n",
              "      <td>0.081771</td>\n",
              "      <td>0.082292</td>\n",
              "      <td>0.068750</td>\n",
              "      <td>0.071354</td>\n",
              "      <td>0.071354</td>\n",
              "      <td>377064000</td>\n",
              "    </tr>\n",
              "    <tr>\n",
              "      <th>2</th>\n",
              "      <td>1997-05-22</td>\n",
              "      <td>0.071875</td>\n",
              "      <td>0.072396</td>\n",
              "      <td>0.065625</td>\n",
              "      <td>0.069792</td>\n",
              "      <td>0.069792</td>\n",
              "      <td>235536000</td>\n",
              "    </tr>\n",
              "    <tr>\n",
              "      <th>3</th>\n",
              "      <td>1997-05-23</td>\n",
              "      <td>0.070313</td>\n",
              "      <td>0.076042</td>\n",
              "      <td>0.066667</td>\n",
              "      <td>0.075000</td>\n",
              "      <td>0.075000</td>\n",
              "      <td>318744000</td>\n",
              "    </tr>\n",
              "    <tr>\n",
              "      <th>4</th>\n",
              "      <td>1997-05-27</td>\n",
              "      <td>0.075521</td>\n",
              "      <td>0.082292</td>\n",
              "      <td>0.072917</td>\n",
              "      <td>0.079167</td>\n",
              "      <td>0.079167</td>\n",
              "      <td>173952000</td>\n",
              "    </tr>\n",
              "    <tr>\n",
              "      <th>...</th>\n",
              "      <td>...</td>\n",
              "      <td>...</td>\n",
              "      <td>...</td>\n",
              "      <td>...</td>\n",
              "      <td>...</td>\n",
              "      <td>...</td>\n",
              "      <td>...</td>\n",
              "    </tr>\n",
              "    <tr>\n",
              "      <th>6885</th>\n",
              "      <td>2024-09-30</td>\n",
              "      <td>187.139999</td>\n",
              "      <td>188.490005</td>\n",
              "      <td>184.649994</td>\n",
              "      <td>186.330002</td>\n",
              "      <td>186.330002</td>\n",
              "      <td>41583900</td>\n",
              "    </tr>\n",
              "    <tr>\n",
              "      <th>6886</th>\n",
              "      <td>2024-10-01</td>\n",
              "      <td>184.899994</td>\n",
              "      <td>186.190002</td>\n",
              "      <td>183.449997</td>\n",
              "      <td>185.130005</td>\n",
              "      <td>185.130005</td>\n",
              "      <td>36044900</td>\n",
              "    </tr>\n",
              "    <tr>\n",
              "      <th>6887</th>\n",
              "      <td>2024-10-02</td>\n",
              "      <td>184.440002</td>\n",
              "      <td>186.600006</td>\n",
              "      <td>184.039993</td>\n",
              "      <td>184.759995</td>\n",
              "      <td>184.759995</td>\n",
              "      <td>23704100</td>\n",
              "    </tr>\n",
              "    <tr>\n",
              "      <th>6888</th>\n",
              "      <td>2024-10-03</td>\n",
              "      <td>183.050003</td>\n",
              "      <td>183.440002</td>\n",
              "      <td>180.880005</td>\n",
              "      <td>181.960007</td>\n",
              "      <td>181.960007</td>\n",
              "      <td>30204300</td>\n",
              "    </tr>\n",
              "    <tr>\n",
              "      <th>6889</th>\n",
              "      <td>2024-10-04</td>\n",
              "      <td>185.750000</td>\n",
              "      <td>187.600006</td>\n",
              "      <td>183.600006</td>\n",
              "      <td>186.509995</td>\n",
              "      <td>186.509995</td>\n",
              "      <td>40890300</td>\n",
              "    </tr>\n",
              "  </tbody>\n",
              "</table>\n",
              "<p>6890 rows × 7 columns</p>\n",
              "</div>"
            ],
            "text/plain": [
              "            Date        Open        High         Low       Close   Adj Close  \\\n",
              "0     1997-05-20    0.086458    0.087500    0.081771    0.081771    0.081771   \n",
              "1     1997-05-21    0.081771    0.082292    0.068750    0.071354    0.071354   \n",
              "2     1997-05-22    0.071875    0.072396    0.065625    0.069792    0.069792   \n",
              "3     1997-05-23    0.070313    0.076042    0.066667    0.075000    0.075000   \n",
              "4     1997-05-27    0.075521    0.082292    0.072917    0.079167    0.079167   \n",
              "...          ...         ...         ...         ...         ...         ...   \n",
              "6885  2024-09-30  187.139999  188.490005  184.649994  186.330002  186.330002   \n",
              "6886  2024-10-01  184.899994  186.190002  183.449997  185.130005  185.130005   \n",
              "6887  2024-10-02  184.440002  186.600006  184.039993  184.759995  184.759995   \n",
              "6888  2024-10-03  183.050003  183.440002  180.880005  181.960007  181.960007   \n",
              "6889  2024-10-04  185.750000  187.600006  183.600006  186.509995  186.509995   \n",
              "\n",
              "         Volume  \n",
              "0     109344000  \n",
              "1     377064000  \n",
              "2     235536000  \n",
              "3     318744000  \n",
              "4     173952000  \n",
              "...         ...  \n",
              "6885   41583900  \n",
              "6886   36044900  \n",
              "6887   23704100  \n",
              "6888   30204300  \n",
              "6889   40890300  \n",
              "\n",
              "[6890 rows x 7 columns]"
            ]
          },
          "execution_count": 88,
          "metadata": {},
          "output_type": "execute_result"
        }
      ],
      "source": [
        "data"
      ]
    },
    {
      "cell_type": "code",
      "execution_count": 89,
      "metadata": {},
      "outputs": [
        {
          "data": {
            "text/html": [
              "<div>\n",
              "<style scoped>\n",
              "    .dataframe tbody tr th:only-of-type {\n",
              "        vertical-align: middle;\n",
              "    }\n",
              "\n",
              "    .dataframe tbody tr th {\n",
              "        vertical-align: top;\n",
              "    }\n",
              "\n",
              "    .dataframe thead th {\n",
              "        text-align: right;\n",
              "    }\n",
              "</style>\n",
              "<table border=\"1\" class=\"dataframe\">\n",
              "  <thead>\n",
              "    <tr style=\"text-align: right;\">\n",
              "      <th></th>\n",
              "      <th>Date</th>\n",
              "      <th>Close</th>\n",
              "    </tr>\n",
              "  </thead>\n",
              "  <tbody>\n",
              "    <tr>\n",
              "      <th>0</th>\n",
              "      <td>1997-05-20</td>\n",
              "      <td>0.081771</td>\n",
              "    </tr>\n",
              "    <tr>\n",
              "      <th>1</th>\n",
              "      <td>1997-05-21</td>\n",
              "      <td>0.071354</td>\n",
              "    </tr>\n",
              "    <tr>\n",
              "      <th>2</th>\n",
              "      <td>1997-05-22</td>\n",
              "      <td>0.069792</td>\n",
              "    </tr>\n",
              "    <tr>\n",
              "      <th>3</th>\n",
              "      <td>1997-05-23</td>\n",
              "      <td>0.075000</td>\n",
              "    </tr>\n",
              "    <tr>\n",
              "      <th>4</th>\n",
              "      <td>1997-05-27</td>\n",
              "      <td>0.079167</td>\n",
              "    </tr>\n",
              "    <tr>\n",
              "      <th>...</th>\n",
              "      <td>...</td>\n",
              "      <td>...</td>\n",
              "    </tr>\n",
              "    <tr>\n",
              "      <th>6885</th>\n",
              "      <td>2024-09-30</td>\n",
              "      <td>186.330002</td>\n",
              "    </tr>\n",
              "    <tr>\n",
              "      <th>6886</th>\n",
              "      <td>2024-10-01</td>\n",
              "      <td>185.130005</td>\n",
              "    </tr>\n",
              "    <tr>\n",
              "      <th>6887</th>\n",
              "      <td>2024-10-02</td>\n",
              "      <td>184.759995</td>\n",
              "    </tr>\n",
              "    <tr>\n",
              "      <th>6888</th>\n",
              "      <td>2024-10-03</td>\n",
              "      <td>181.960007</td>\n",
              "    </tr>\n",
              "    <tr>\n",
              "      <th>6889</th>\n",
              "      <td>2024-10-04</td>\n",
              "      <td>186.509995</td>\n",
              "    </tr>\n",
              "  </tbody>\n",
              "</table>\n",
              "<p>6890 rows × 2 columns</p>\n",
              "</div>"
            ],
            "text/plain": [
              "            Date       Close\n",
              "0     1997-05-20    0.081771\n",
              "1     1997-05-21    0.071354\n",
              "2     1997-05-22    0.069792\n",
              "3     1997-05-23    0.075000\n",
              "4     1997-05-27    0.079167\n",
              "...          ...         ...\n",
              "6885  2024-09-30  186.330002\n",
              "6886  2024-10-01  185.130005\n",
              "6887  2024-10-02  184.759995\n",
              "6888  2024-10-03  181.960007\n",
              "6889  2024-10-04  186.509995\n",
              "\n",
              "[6890 rows x 2 columns]"
            ]
          },
          "execution_count": 89,
          "metadata": {},
          "output_type": "execute_result"
        }
      ],
      "source": [
        "data = data[['Date', 'Close']]\n",
        "data"
      ]
    },
    {
      "cell_type": "code",
      "execution_count": 90,
      "metadata": {},
      "outputs": [
        {
          "name": "stderr",
          "output_type": "stream",
          "text": [
            "/var/folders/59/c32_bthx48jd9m2ym5m3tnpw0000j7/T/ipykernel_36693/1453708669.py:1: SettingWithCopyWarning: \n",
            "A value is trying to be set on a copy of a slice from a DataFrame.\n",
            "Try using .loc[row_indexer,col_indexer] = value instead\n",
            "\n",
            "See the caveats in the documentation: https://pandas.pydata.org/pandas-docs/stable/user_guide/indexing.html#returning-a-view-versus-a-copy\n",
            "  data['Date'] = pd.to_datetime(data['Date'])\n"
          ]
        }
      ],
      "source": [
        "data['Date'] = pd.to_datetime(data['Date'])"
      ]
    },
    {
      "cell_type": "code",
      "execution_count": 91,
      "metadata": {},
      "outputs": [
        {
          "data": {
            "text/plain": [
              "[<matplotlib.lines.Line2D at 0x14e5f3950>]"
            ]
          },
          "execution_count": 91,
          "metadata": {},
          "output_type": "execute_result"
        },
        {
          "data": {
            "image/png": "[encoded data removed]",
            "text/plain": [
              "<Figure size 640x480 with 1 Axes>"
            ]
          },
          "metadata": {},
          "output_type": "display_data"
        }
      ],
      "source": [
        "plt.plot(data['Date'], data['Close'])"
      ]
    },
    {
      "cell_type": "code",
      "execution_count": 92,
      "metadata": {},
      "outputs": [
        {
          "data": {
            "text/html": [
              "<div>\n",
              "<style scoped>\n",
              "    .dataframe tbody tr th:only-of-type {\n",
              "        vertical-align: middle;\n",
              "    }\n",
              "\n",
              "    .dataframe tbody tr th {\n",
              "        vertical-align: top;\n",
              "    }\n",
              "\n",
              "    .dataframe thead th {\n",
              "        text-align: right;\n",
              "    }\n",
              "</style>\n",
              "<table border=\"1\" class=\"dataframe\">\n",
              "  <thead>\n",
              "    <tr style=\"text-align: right;\">\n",
              "      <th></th>\n",
              "      <th>Close</th>\n",
              "      <th>Close(t-1)</th>\n",
              "      <th>Close(t-2)</th>\n",
              "      <th>Close(t-3)</th>\n",
              "      <th>Close(t-4)</th>\n",
              "      <th>Close(t-5)</th>\n",
              "      <th>Close(t-6)</th>\n",
              "      <th>Close(t-7)</th>\n",
              "    </tr>\n",
              "    <tr>\n",
              "      <th>Date</th>\n",
              "      <th></th>\n",
              "      <th></th>\n",
              "      <th></th>\n",
              "      <th></th>\n",
              "      <th></th>\n",
              "      <th></th>\n",
              "      <th></th>\n",
              "      <th></th>\n",
              "    </tr>\n",
              "  </thead>\n",
              "  <tbody>\n",
              "    <tr>\n",
              "      <th>1997-05-30</th>\n",
              "      <td>0.075000</td>\n",
              "      <td>0.075260</td>\n",
              "      <td>0.076563</td>\n",
              "      <td>0.079167</td>\n",
              "      <td>0.075000</td>\n",
              "      <td>0.069792</td>\n",
              "      <td>0.071354</td>\n",
              "      <td>0.081771</td>\n",
              "    </tr>\n",
              "    <tr>\n",
              "      <th>1997-06-02</th>\n",
              "      <td>0.075521</td>\n",
              "      <td>0.075000</td>\n",
              "      <td>0.075260</td>\n",
              "      <td>0.076563</td>\n",
              "      <td>0.079167</td>\n",
              "      <td>0.075000</td>\n",
              "      <td>0.069792</td>\n",
              "      <td>0.071354</td>\n",
              "    </tr>\n",
              "    <tr>\n",
              "      <th>1997-06-03</th>\n",
              "      <td>0.073958</td>\n",
              "      <td>0.075521</td>\n",
              "      <td>0.075000</td>\n",
              "      <td>0.075260</td>\n",
              "      <td>0.076563</td>\n",
              "      <td>0.079167</td>\n",
              "      <td>0.075000</td>\n",
              "      <td>0.069792</td>\n",
              "    </tr>\n",
              "    <tr>\n",
              "      <th>1997-06-04</th>\n",
              "      <td>0.070833</td>\n",
              "      <td>0.073958</td>\n",
              "      <td>0.075521</td>\n",
              "      <td>0.075000</td>\n",
              "      <td>0.075260</td>\n",
              "      <td>0.076563</td>\n",
              "      <td>0.079167</td>\n",
              "      <td>0.075000</td>\n",
              "    </tr>\n",
              "    <tr>\n",
              "      <th>1997-06-05</th>\n",
              "      <td>0.077083</td>\n",
              "      <td>0.070833</td>\n",
              "      <td>0.073958</td>\n",
              "      <td>0.075521</td>\n",
              "      <td>0.075000</td>\n",
              "      <td>0.075260</td>\n",
              "      <td>0.076563</td>\n",
              "      <td>0.079167</td>\n",
              "    </tr>\n",
              "    <tr>\n",
              "      <th>...</th>\n",
              "      <td>...</td>\n",
              "      <td>...</td>\n",
              "      <td>...</td>\n",
              "      <td>...</td>\n",
              "      <td>...</td>\n",
              "      <td>...</td>\n",
              "      <td>...</td>\n",
              "      <td>...</td>\n",
              "    </tr>\n",
              "    <tr>\n",
              "      <th>2024-09-30</th>\n",
              "      <td>186.330002</td>\n",
              "      <td>187.970001</td>\n",
              "      <td>191.160004</td>\n",
              "      <td>192.529999</td>\n",
              "      <td>193.960007</td>\n",
              "      <td>193.880005</td>\n",
              "      <td>191.600006</td>\n",
              "      <td>189.869995</td>\n",
              "    </tr>\n",
              "    <tr>\n",
              "      <th>2024-10-01</th>\n",
              "      <td>185.130005</td>\n",
              "      <td>186.330002</td>\n",
              "      <td>187.970001</td>\n",
              "      <td>191.160004</td>\n",
              "      <td>192.529999</td>\n",
              "      <td>193.960007</td>\n",
              "      <td>193.880005</td>\n",
              "      <td>191.600006</td>\n",
              "    </tr>\n",
              "    <tr>\n",
              "      <th>2024-10-02</th>\n",
              "      <td>184.759995</td>\n",
              "      <td>185.130005</td>\n",
              "      <td>186.330002</td>\n",
              "      <td>187.970001</td>\n",
              "      <td>191.160004</td>\n",
              "      <td>192.529999</td>\n",
              "      <td>193.960007</td>\n",
              "      <td>193.880005</td>\n",
              "    </tr>\n",
              "    <tr>\n",
              "      <th>2024-10-03</th>\n",
              "      <td>181.960007</td>\n",
              "      <td>184.759995</td>\n",
              "      <td>185.130005</td>\n",
              "      <td>186.330002</td>\n",
              "      <td>187.970001</td>\n",
              "      <td>191.160004</td>\n",
              "      <td>192.529999</td>\n",
              "      <td>193.960007</td>\n",
              "    </tr>\n",
              "    <tr>\n",
              "      <th>2024-10-04</th>\n",
              "      <td>186.509995</td>\n",
              "      <td>181.960007</td>\n",
              "      <td>184.759995</td>\n",
              "      <td>185.130005</td>\n",
              "      <td>186.330002</td>\n",
              "      <td>187.970001</td>\n",
              "      <td>191.160004</td>\n",
              "      <td>192.529999</td>\n",
              "    </tr>\n",
              "  </tbody>\n",
              "</table>\n",
              "<p>6883 rows × 8 columns</p>\n",
              "</div>"
            ],
            "text/plain": [
              "                 Close  Close(t-1)  Close(t-2)  Close(t-3)  Close(t-4)  \\\n",
              "Date                                                                     \n",
              "1997-05-30    0.075000    0.075260    0.076563    0.079167    0.075000   \n",
              "1997-06-02    0.075521    0.075000    0.075260    0.076563    0.079167   \n",
              "1997-06-03    0.073958    0.075521    0.075000    0.075260    0.076563   \n",
              "1997-06-04    0.070833    0.073958    0.075521    0.075000    0.075260   \n",
              "1997-06-05    0.077083    0.070833    0.073958    0.075521    0.075000   \n",
              "...                ...         ...         ...         ...         ...   \n",
              "2024-09-30  186.330002  187.970001  191.160004  192.529999  193.960007   \n",
              "2024-10-01  185.130005  186.330002  187.970001  191.160004  192.529999   \n",
              "2024-10-02  184.759995  185.130005  186.330002  187.970001  191.160004   \n",
              "2024-10-03  181.960007  184.759995  185.130005  186.330002  187.970001   \n",
              "2024-10-04  186.509995  181.960007  184.759995  185.130005  186.330002   \n",
              "\n",
              "            Close(t-5)  Close(t-6)  Close(t-7)  \n",
              "Date                                            \n",
              "1997-05-30    0.069792    0.071354    0.081771  \n",
              "1997-06-02    0.075000    0.069792    0.071354  \n",
              "1997-06-03    0.079167    0.075000    0.069792  \n",
              "1997-06-04    0.076563    0.079167    0.075000  \n",
              "1997-06-05    0.075260    0.076563    0.079167  \n",
              "...                ...         ...         ...  \n",
              "2024-09-30  193.880005  191.600006  189.869995  \n",
              "2024-10-01  193.960007  193.880005  191.600006  \n",
              "2024-10-02  192.529999  193.960007  193.880005  \n",
              "2024-10-03  191.160004  192.529999  193.960007  \n",
              "2024-10-04  187.970001  191.160004  192.529999  \n",
              "\n",
              "[6883 rows x 8 columns]"
            ]
          },
          "execution_count": 92,
          "metadata": {},
          "output_type": "execute_result"
        }
      ],
      "source": [
        "def prepare_dataframe_for_lstm(df, n_steps):\n",
        "    df = dc(df)\n",
        "    df['Date'] = pd.to_datetime(df['Date'])\n",
        "    df.set_index('Date', inplace = True)\n",
        "    for i in range(1, n_steps + 1):\n",
        "        df[f'Close(t-{i})'] = df['Close'].shift(i)\n",
        "\n",
        "    df.dropna(inplace = True)\n",
        "    return df\n",
        "\n",
        "loopback = 7\n",
        "shifted_df = prepare_dataframe_for_lstm(data, loopback)\n",
        "shifted_df"
      ]
    },
    {
      "cell_type": "code",
      "execution_count": 93,
      "metadata": {},
      "outputs": [],
      "source": [
        "shifted_df_as_numpy = shifted_df.to_numpy()"
      ]
    },
    {
      "cell_type": "code",
      "execution_count": 94,
      "metadata": {},
      "outputs": [],
      "source": [
        "scaler = MinMaxScaler(feature_range=(-1, 1))\n",
        "shifted_df_as_numpy = scaler.fit_transform(shifted_df_as_numpy)"
      ]
    },
    {
      "cell_type": "code",
      "execution_count": 95,
      "metadata": {},
      "outputs": [],
      "source": [
        "X = dc(np.flip(shifted_df_as_numpy[:, 1:], axis = 1))\n",
        "y = shifted_df_as_numpy[:, 0]"
      ]
    },
    {
      "cell_type": "code",
      "execution_count": 96,
      "metadata": {},
      "outputs": [
        {
          "data": {
            "text/plain": [
              "((6883, 7), (6883,))"
            ]
          },
          "execution_count": 96,
          "metadata": {},
          "output_type": "execute_result"
        }
      ],
      "source": [
        "x.shape, y.shape"
      ]
    },
    {
      "cell_type": "code",
      "execution_count": 97,
      "metadata": {},
      "outputs": [
        {
          "data": {
            "text/plain": [
              "6538"
            ]
          },
          "execution_count": 97,
          "metadata": {},
          "output_type": "execute_result"
        }
      ],
      "source": [
        "split_index = int(.95 * len(X))\n",
        "split_index"
      ]
    },
    {
      "cell_type": "markdown",
      "metadata": {},
      "source": [
        "## Build train and test splits"
      ]
    },
    {
      "cell_type": "code",
      "execution_count": 98,
      "metadata": {},
      "outputs": [
        {
          "data": {
            "text/plain": [
              "((6538, 7), (345, 7), (6538,), (345,))"
            ]
          },
          "execution_count": 98,
          "metadata": {},
          "output_type": "execute_result"
        }
      ],
      "source": [
        "X_train = X[: split_index]\n",
        "X_test = X[split_index :]\n",
        "\n",
        "y_train = y[: split_index]\n",
        "y_test = y[split_index :]\n",
        "\n",
        "X_train.shape , X_test.shape , y_train.shape , y_test.shape"
      ]
    },
    {
      "cell_type": "code",
      "execution_count": 99,
      "metadata": {},
      "outputs": [
        {
          "data": {
            "text/plain": [
              "((6538, 7, 1), (345, 7, 1), (6538, 1), (345, 1))"
            ]
          },
          "execution_count": 99,
          "metadata": {},
          "output_type": "execute_result"
        }
      ],
      "source": [
        "X_train = X_train.reshape((-1, loopback, 1))\n",
        "X_test = X_test.reshape((-1, loopback, 1))\n",
        "\n",
        "y_train = y_train.reshape((-1, 1))\n",
        "y_test = y_test.reshape((-1, 1))\n",
        "\n",
        "X_train.shape, X_test.shape, y_train.shape, y_test.shape"
      ]
    },
    {
      "cell_type": "code",
      "execution_count": 100,
      "metadata": {},
      "outputs": [
        {
          "data": {
            "text/plain": [
              "(torch.Size([6538, 7, 1]),\n",
              " torch.Size([345, 7, 1]),\n",
              " torch.Size([6538, 1]),\n",
              " torch.Size([345, 1]))"
            ]
          },
          "execution_count": 100,
          "metadata": {},
          "output_type": "execute_result"
        }
      ],
      "source": [
        "X_train = torch.tensor(X_train).float()\n",
        "X_test = torch.tensor(X_test).float()\n",
        "y_train = torch.tensor(y_train).float()\n",
        "y_test = torch.tensor(y_test).float()\n",
        "X_train.shape , X_test.shape , y_train.shape , y_test.shape"
      ]
    },
    {
      "cell_type": "markdown",
      "metadata": {},
      "source": [
        "## Built PyTorch DataSets and DataLoaders"
      ]
    },
    {
      "cell_type": "code",
      "execution_count": 101,
      "metadata": {},
      "outputs": [],
      "source": [
        "from torch.utils.data import Dataset\n",
        "\n",
        "class TimeSeriesDataset(Dataset):\n",
        "    def __init__(self, X, y):\n",
        "        self.X = X\n",
        "        self.y = y\n",
        "\n",
        "    def __len__(self):\n",
        "        return len(self.X)\n",
        "    \n",
        "    def __getitem__(self, idx):\n",
        "        return self.X[idx], self.y[idx]\n",
        "    \n",
        "train_dataset = TimeSeriesDataset(X_train, y_train)\n",
        "test_dataset = TimeSeriesDataset(X_test, y_test)"
      ]
    },
    {
      "cell_type": "code",
      "execution_count": 102,
      "metadata": {},
      "outputs": [],
      "source": [
        "from torch.utils.data import DataLoader\n",
        "\n",
        "batchsize = 16\n",
        "\n",
        "train_loader = DataLoader(train_dataset, batch_size = batchsize, shuffle = True)\n",
        "test_loader = DataLoader(test_dataset, batch_size  = len(X), shuffle  = False)"
      ]
    },
    {
      "cell_type": "markdown",
      "metadata": {},
      "source": [
        "## Select the backend (MPS in my case for an M2)"
      ]
    },
    {
      "cell_type": "code",
      "execution_count": 103,
      "metadata": {},
      "outputs": [],
      "source": [
        "if torch.backends.mps.is_available():\n",
        "    device = torch.device(\"mps\")\n",
        "else:\n",
        "    device = torch.device(\"cpu\")"
      ]
    },
    {
      "cell_type": "markdown",
      "metadata": {},
      "source": [
        "## Define the NN model"
      ]
    },
    {
      "cell_type": "code",
      "execution_count": 104,
      "metadata": {},
      "outputs": [
        {
          "data": {
            "text/plain": [
              "LSTM(\n",
              "  (lstm): LSTM(1, 4, batch_first=True)\n",
              "  (fc): Linear(in_features=4, out_features=1, bias=True)\n",
              ")"
            ]
          },
          "execution_count": 104,
          "metadata": {},
          "output_type": "execute_result"
        }
      ],
      "source": [
        "class LSTM(nn.Module):\n",
        "    def __init__(self, input_size, hidden_size, num_stacked_layers):\n",
        "        super().__init__()\n",
        "        self.hidden_size = hidden_size\n",
        "        self.num_stacked_layers = num_stacked_layers\n",
        "        self.lstm = nn.LSTM(input_size, hidden_size, num_stacked_layers, batch_first=True)\n",
        "        self.fc = nn.Linear(hidden_size, 1)\n",
        "\n",
        "    def forward(self, x):\n",
        "        batch_size = x.size(0)\n",
        "        h0 = torch.zeros(self.num_stacked_layers, batch_size, self.hidden_size).to(device) \n",
        "        c0 = torch.zeros(self.num_stacked_layers, batch_size, self.hidden_size).to(device)\n",
        "        out, _ = self.lstm(x, (h0, c0))\n",
        "        out = self.fc(out[:, -1, :])\n",
        "        return out\n",
        "    \n",
        "model = LSTM(1, 4, 1).to(device)\n",
        "model"
      ]
    },
    {
      "cell_type": "markdown",
      "metadata": {},
      "source": [
        "## Define the train and validate functions"
      ]
    },
    {
      "cell_type": "code",
      "execution_count": 105,
      "metadata": {},
      "outputs": [],
      "source": [
        "def train_one_epoch():\n",
        "    model.train(True)\n",
        "    print(f'Epoch {epoch+1}')\n",
        "    running_loss = 0.0\n",
        "\n",
        "    for batch_index, batch in enumerate(train_loader):\n",
        "        x_batch, y_batch = batch[0].to(device), batch[1].to(device)\n",
        "        output = model(x_batch)\n",
        "        loss = loss_fn(output, y_batch)\n",
        "\n",
        "        running_loss += loss.item()\n",
        "        optimizer.zero_grad()\n",
        "        loss.backward()\n",
        "        optimizer.step()\n",
        "\n",
        "        if batch_index % 100 == 99:\n",
        "            avg_loss_across_batches = running_loss / 100\n",
        "            print('Batch {0}, loss: {1:.3f}'.format(batch_index + 1, avg_loss_across_batches))\n",
        "            running_loss = 0.0\n",
        "    print()\n",
        "\n",
        "def validate_one_epoch():\n",
        "    model.train(False)\n",
        "    running_loss = 0.0\n",
        "    for batch_index, batch in enumerate(test_loader):\n",
        "        x_batch, y_batch = batch[0].to(device), batch[1].to(device)\n",
        "        with torch.no_grad():\n",
        "            output = model(x_batch)\n",
        "            loss = loss_fn(output, y_batch)\n",
        "\n",
        "            running_loss += loss.item()\n",
        "        \n",
        "    avg_loss_across_batches = running_loss / len(test_loader)\n",
        "    print('Val loss: {0:.3f}'.format(avg_loss_across_batches))\n",
        "    print()\n"
      ]
    },
    {
      "cell_type": "markdown",
      "metadata": {},
      "source": [
        "## Train the model"
      ]
    },
    {
      "cell_type": "code",
      "execution_count": 106,
      "metadata": {},
      "outputs": [
        {
          "name": "stdout",
          "output_type": "stream",
          "text": [
            "Epoch 1\n",
            "Batch 100, loss: 0.397\n",
            "Batch 200, loss: 0.143\n",
            "Batch 300, loss: 0.048\n",
            "Batch 400, loss: 0.015\n",
            "\n",
            "Val loss: 0.131\n",
            "\n",
            "Epoch 2\n",
            "Batch 100, loss: 0.009\n",
            "Batch 200, loss: 0.007\n",
            "Batch 300, loss: 0.006\n",
            "Batch 400, loss: 0.004\n",
            "\n",
            "Val loss: 0.042\n",
            "\n",
            "Epoch 3\n",
            "Batch 100, loss: 0.003\n",
            "Batch 200, loss: 0.002\n",
            "Batch 300, loss: 0.001\n",
            "Batch 400, loss: 0.001\n",
            "\n",
            "Val loss: 0.018\n",
            "\n",
            "Epoch 4\n",
            "Batch 100, loss: 0.001\n",
            "Batch 200, loss: 0.001\n",
            "Batch 300, loss: 0.001\n",
            "Batch 400, loss: 0.001\n",
            "\n",
            "Val loss: 0.012\n",
            "\n",
            "Epoch 5\n",
            "Batch 100, loss: 0.001\n",
            "Batch 200, loss: 0.001\n",
            "Batch 300, loss: 0.001\n",
            "Batch 400, loss: 0.001\n",
            "\n",
            "Val loss: 0.010\n",
            "\n",
            "Epoch 6\n",
            "Batch 100, loss: 0.001\n",
            "Batch 200, loss: 0.001\n",
            "Batch 300, loss: 0.001\n",
            "Batch 400, loss: 0.000\n",
            "\n",
            "Val loss: 0.009\n",
            "\n",
            "Epoch 7\n",
            "Batch 100, loss: 0.001\n",
            "Batch 200, loss: 0.001\n",
            "Batch 300, loss: 0.001\n",
            "Batch 400, loss: 0.000\n",
            "\n",
            "Val loss: 0.007\n",
            "\n",
            "Epoch 8\n",
            "Batch 100, loss: 0.000\n",
            "Batch 200, loss: 0.000\n",
            "Batch 300, loss: 0.000\n",
            "Batch 400, loss: 0.000\n",
            "\n",
            "Val loss: 0.006\n",
            "\n",
            "Epoch 9\n",
            "Batch 100, loss: 0.000\n",
            "Batch 200, loss: 0.000\n",
            "Batch 300, loss: 0.000\n",
            "Batch 400, loss: 0.000\n",
            "\n",
            "Val loss: 0.005\n",
            "\n",
            "Epoch 10\n",
            "Batch 100, loss: 0.000\n",
            "Batch 200, loss: 0.000\n",
            "Batch 300, loss: 0.000\n",
            "Batch 400, loss: 0.000\n",
            "\n",
            "Val loss: 0.006\n",
            "\n"
          ]
        }
      ],
      "source": [
        "learning_rate = 0.001\n",
        "num_epochs = 10\n",
        "loss_fn = nn.MSELoss()\n",
        "optimizer = torch.optim.Adam(model.parameters(), lr=learning_rate)\n",
        "\n",
        "for epoch in range(num_epochs):\n",
        "    train_one_epoch()\n",
        "    validate_one_epoch()"
      ]
    },
    {
      "cell_type": "markdown",
      "metadata": {},
      "source": [
        "## Plot real versus predicted"
      ]
    },
    {
      "cell_type": "code",
      "execution_count": 107,
      "metadata": {},
      "outputs": [
        {
          "data": {
            "image/png": "[encoded data removed]",
            "text/plain": [
              "<Figure size 640x480 with 1 Axes>"
            ]
          },
          "metadata": {},
          "output_type": "display_data"
        }
      ],
      "source": [
        "with torch.no_grad():\n",
        "    predicted = model(X_train.to(device)).to('cpu').numpy()\n",
        "plt.plot(y_train, label='Actual Close')\n",
        "plt.plot(predicted, label='Predicted Close')\n",
        "plt.xlabel('Days')\n",
        "plt.ylabel('Close Price')\n",
        "plt.legend()\n",
        "plt.show()"
      ]
    }
  ],
  "metadata": {
    "colab": {
      "include_colab_link": true,
      "name": "5-probability.ipynb",
      "provenance": []
    },
    "kernelspec": {
      "display_name": ".venv",
      "language": "python",
      "name": "python3"
    },
    "language_info": {
      "codemirror_mode": {
        "name": "ipython",
        "version": 3
      },
      "file_extension": ".py",
      "mimetype": "text/x-python",
      "name": "python",
      "nbconvert_exporter": "python",
      "pygments_lexer": "ipython3",
      "version": "3.12.6"
    }
  },
  "nbformat": 4,
  "nbformat_minor": 0
}
