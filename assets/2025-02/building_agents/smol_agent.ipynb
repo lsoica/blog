{
 "cells": [
  {
   "cell_type": "code",
   "execution_count": null,
   "metadata": {},
   "outputs": [],
   "source": [
    "%pip install markdownify smolagents requests duckduckgo_search pandas"
   ]
  },
  {
   "cell_type": "markdown",
   "metadata": {},
   "source": [
    "## Let's define tools"
   ]
  },
  {
   "cell_type": "code",
   "execution_count": 12,
   "metadata": {},
   "outputs": [],
   "source": [
    "from typing import Any, Optional\n",
    "from smolagents.tools import Tool\n",
    "from typing import Any, Optional\n",
    "from smolagents.tools import Tool\n",
    "import requests\n",
    "import markdownify\n",
    "import smolagents\n",
    "from typing import Any, Optional\n",
    "from smolagents.tools import Tool\n",
    "import duckduckgo_search\n",
    "import datetime\n",
    "\n",
    "class FinalAnswerTool(Tool):\n",
    "    name = \"final_answer\"\n",
    "    description = \"Provides a final answer to the given problem.\"\n",
    "    inputs = {'answer': {'type': 'any', 'description': 'The final answer to the problem'}}\n",
    "    output_type = \"any\"\n",
    "\n",
    "    def forward(self, answer: Any) -> Any:\n",
    "        return answer\n",
    "\n",
    "    def __init__(self, *args, **kwargs):\n",
    "        self.is_initialized = False\n",
    "\n",
    "class VisitWebpageTool(Tool):\n",
    "    name = \"visit_webpage\"\n",
    "    description = \"Visits a webpage at the given url and reads its content as a markdown string. Use this to browse webpages.\"\n",
    "    inputs = {'url': {'type': 'string', 'description': 'The url of the webpage to visit.'}}\n",
    "    output_type = \"string\"\n",
    "\n",
    "    def forward(self, url: str) -> str:\n",
    "        try:\n",
    "            import requests\n",
    "            from markdownify import markdownify\n",
    "            from requests.exceptions import RequestException\n",
    "\n",
    "            from smolagents.utils import truncate_content\n",
    "        except ImportError as e:\n",
    "            raise ImportError(\n",
    "                \"You must install packages `markdownify` and `requests` to run this tool: for instance run `pip install markdownify requests`.\"\n",
    "            ) from e\n",
    "        try:\n",
    "            # Send a GET request to the URL with a 20-second timeout\n",
    "            response = requests.get(url, timeout=20)\n",
    "            response.raise_for_status()  # Raise an exception for bad status codes\n",
    "\n",
    "            # Convert the HTML content to Markdown\n",
    "            markdown_content = markdownify(response.text).strip()\n",
    "\n",
    "            # Remove multiple line breaks\n",
    "            markdown_content = re.sub(r\"\\n{3,}\", \"\\n\\n\", markdown_content)\n",
    "\n",
    "            return truncate_content(markdown_content, 10000)\n",
    "\n",
    "        except requests.exceptions.Timeout:\n",
    "            return \"The request timed out. Please try again later or check the URL.\"\n",
    "        except RequestException as e:\n",
    "            return f\"Error fetching the webpage: {str(e)}\"\n",
    "        except Exception as e:\n",
    "            return f\"An unexpected error occurred: {str(e)}\"\n",
    "\n",
    "    def __init__(self, *args, **kwargs):\n",
    "        self.is_initialized = False        \n",
    "\n",
    "class DuckDuckGoSearchTool(Tool):\n",
    "    name = \"web_search\"\n",
    "    description = \"Performs a duckduckgo web search based on your query (think a Google search) then returns the top search results.\"\n",
    "    inputs = {'query': {'type': 'string', 'description': 'The search query to perform.'}}\n",
    "    output_type = \"string\"\n",
    "\n",
    "    def __init__(self, max_results=10, **kwargs):\n",
    "        super().__init__()\n",
    "        self.max_results = max_results\n",
    "        try:\n",
    "            from duckduckgo_search import DDGS\n",
    "        except ImportError as e:\n",
    "            raise ImportError(\n",
    "                \"You must install package `duckduckgo_search` to run this tool: for instance run `pip install duckduckgo-search`.\"\n",
    "            ) from e\n",
    "        self.ddgs = DDGS(**kwargs)\n",
    "\n",
    "    def forward(self, query: str) -> str:\n",
    "        results = self.ddgs.text(query, max_results=self.max_results)\n",
    "        if len(results) == 0:\n",
    "            raise Exception(\"No results found! Try a less restrictive/shorter query.\")\n",
    "        postprocessed_results = [f\"[{result['title']}]({result['href']})\\n{result['body']}\" for result in results]\n",
    "        return \"## Search Results\\n\\n\" + \"\\n\\n\".join(postprocessed_results)\n",
    "    \n",
    "# Below is an example of a tool that does nothing. Amaze us with your creativity!\n",
    "\n",
    "def my_custom_tool(arg1:str, arg2:int)-> str: # it's important to specify the return type\n",
    "    # Keep this format for the tool description / args description but feel free to modify the tool\n",
    "    \"\"\"A tool that does nothing yet \n",
    "    Args:\n",
    "        arg1: the first argument\n",
    "        arg2: the second argument\n",
    "    \"\"\"\n",
    "    return \"What magic will you build ?\"\n",
    "\n",
    "\n",
    "def get_current_time_in_timezone(timezone: str) -> str:\n",
    "    \"\"\"A tool that fetches the current local time in a specified timezone.\n",
    "    Args:\n",
    "        timezone: A string representing a valid timezone (e.g., 'America/New_York').\n",
    "    \"\"\"\n",
    "    try:\n",
    "        # Create timezone object\n",
    "        tz = pytz.timezone(timezone)\n",
    "        # Get current time in that timezone\n",
    "        local_time = datetime.datetime.now(tz).strftime(\"%Y-%m-%d %H:%M:%S\")\n",
    "        return f\"The current local time in {timezone} is: {local_time}\"\n",
    "    except Exception as e:\n",
    "        return f\"Error fetching time for timezone '{timezone}': {str(e)}\"\n",
    "\n"
   ]
  },
  {
   "cell_type": "markdown",
   "metadata": {},
   "source": [
    "## Gradio UI"
   ]
  },
  {
   "cell_type": "code",
   "execution_count": 17,
   "metadata": {},
   "outputs": [],
   "source": [
    "#!/usr/bin/env python\n",
    "# coding=utf-8\n",
    "# Copyright 2024 The HuggingFace Inc. team. All rights reserved.\n",
    "#\n",
    "# Licensed under the Apache License, Version 2.0 (the \"License\");\n",
    "# you may not use this file except in compliance with the License.\n",
    "# You may obtain a copy of the License at\n",
    "#\n",
    "#     http://www.apache.org/licenses/LICENSE-2.0\n",
    "#\n",
    "# Unless required by applicable law or agreed to in writing, software\n",
    "# distributed under the License is distributed on an \"AS IS\" BASIS,\n",
    "# WITHOUT WARRANTIES OR CONDITIONS OF ANY KIND, either express or implied.\n",
    "# See the License for the specific language governing permissions and\n",
    "# limitations under the License.\n",
    "import mimetypes\n",
    "import os\n",
    "import re\n",
    "import shutil\n",
    "from typing import Optional\n",
    "\n",
    "from smolagents.agent_types import AgentAudio, AgentImage, AgentText, handle_agent_output_types\n",
    "from smolagents.agents import ActionStep, MultiStepAgent\n",
    "from smolagents.memory import MemoryStep\n",
    "from smolagents.utils import _is_package_available\n",
    "\n",
    "\n",
    "def pull_messages_from_step(\n",
    "    step_log: MemoryStep,\n",
    "):\n",
    "    \"\"\"Extract ChatMessage objects from agent steps with proper nesting\"\"\"\n",
    "    import gradio as gr\n",
    "\n",
    "    if isinstance(step_log, ActionStep):\n",
    "        # Output the step number\n",
    "        step_number = f\"Step {step_log.step_number}\" if step_log.step_number is not None else \"\"\n",
    "        yield gr.ChatMessage(role=\"assistant\", content=f\"**{step_number}**\")\n",
    "\n",
    "        # First yield the thought/reasoning from the LLM\n",
    "        if hasattr(step_log, \"model_output\") and step_log.model_output is not None:\n",
    "            # Clean up the LLM output\n",
    "            model_output = step_log.model_output.strip()\n",
    "            # Remove any trailing <end_code> and extra backticks, handling multiple possible formats\n",
    "            model_output = re.sub(r\"```\\s*<end_code>\", \"```\", model_output)  # handles ```<end_code>\n",
    "            model_output = re.sub(r\"<end_code>\\s*```\", \"```\", model_output)  # handles <end_code>```\n",
    "            model_output = re.sub(r\"```\\s*\\n\\s*<end_code>\", \"```\", model_output)  # handles ```\\n<end_code>\n",
    "            model_output = model_output.strip()\n",
    "            yield gr.ChatMessage(role=\"assistant\", content=model_output)\n",
    "\n",
    "        # For tool calls, create a parent message\n",
    "        if hasattr(step_log, \"tool_calls\") and step_log.tool_calls is not None:\n",
    "            first_tool_call = step_log.tool_calls[0]\n",
    "            used_code = first_tool_call.name == \"python_interpreter\"\n",
    "            parent_id = f\"call_{len(step_log.tool_calls)}\"\n",
    "\n",
    "            # Tool call becomes the parent message with timing info\n",
    "            # First we will handle arguments based on type\n",
    "            args = first_tool_call.arguments\n",
    "            if isinstance(args, dict):\n",
    "                content = str(args.get(\"answer\", str(args)))\n",
    "            else:\n",
    "                content = str(args).strip()\n",
    "\n",
    "            if used_code:\n",
    "                # Clean up the content by removing any end code tags\n",
    "                content = re.sub(r\"```.*?\\n\", \"\", content)  # Remove existing code blocks\n",
    "                content = re.sub(r\"\\s*<end_code>\\s*\", \"\", content)  # Remove end_code tags\n",
    "                content = content.strip()\n",
    "                if not content.startswith(\"```python\"):\n",
    "                    content = f\"```python\\n{content}\\n```\"\n",
    "\n",
    "            parent_message_tool = gr.ChatMessage(\n",
    "                role=\"assistant\",\n",
    "                content=content,\n",
    "                metadata={\n",
    "                    \"title\": f\"🛠️ Used tool {first_tool_call.name}\",\n",
    "                    \"id\": parent_id,\n",
    "                    \"status\": \"pending\",\n",
    "                },\n",
    "            )\n",
    "            yield parent_message_tool\n",
    "\n",
    "            # Nesting execution logs under the tool call if they exist\n",
    "            if hasattr(step_log, \"observations\") and (\n",
    "                step_log.observations is not None and step_log.observations.strip()\n",
    "            ):  # Only yield execution logs if there's actual content\n",
    "                log_content = step_log.observations.strip()\n",
    "                if log_content:\n",
    "                    log_content = re.sub(r\"^Execution logs:\\s*\", \"\", log_content)\n",
    "                    yield gr.ChatMessage(\n",
    "                        role=\"assistant\",\n",
    "                        content=f\"{log_content}\",\n",
    "                        metadata={\"title\": \"📝 Execution Logs\", \"parent_id\": parent_id, \"status\": \"done\"},\n",
    "                    )\n",
    "\n",
    "            # Nesting any errors under the tool call\n",
    "            if hasattr(step_log, \"error\") and step_log.error is not None:\n",
    "                yield gr.ChatMessage(\n",
    "                    role=\"assistant\",\n",
    "                    content=str(step_log.error),\n",
    "                    metadata={\"title\": \"💥 Error\", \"parent_id\": parent_id, \"status\": \"done\"},\n",
    "                )\n",
    "\n",
    "            # Update parent message metadata to done status without yielding a new message\n",
    "            parent_message_tool.metadata[\"status\"] = \"done\"\n",
    "\n",
    "        # Handle standalone errors but not from tool calls\n",
    "        elif hasattr(step_log, \"error\") and step_log.error is not None:\n",
    "            yield gr.ChatMessage(role=\"assistant\", content=str(step_log.error), metadata={\"title\": \"💥 Error\"})\n",
    "\n",
    "        # Calculate duration and token information\n",
    "        step_footnote = f\"{step_number}\"\n",
    "        if hasattr(step_log, \"input_token_count\") and hasattr(step_log, \"output_token_count\"):\n",
    "            token_str = (\n",
    "                f\" | Input-tokens:{step_log.input_token_count:,} | Output-tokens:{step_log.output_token_count:,}\"\n",
    "            )\n",
    "            step_footnote += token_str\n",
    "        if hasattr(step_log, \"duration\"):\n",
    "            step_duration = f\" | Duration: {round(float(step_log.duration), 2)}\" if step_log.duration else None\n",
    "            step_footnote += step_duration\n",
    "        step_footnote = f\"\"\"<span style=\"color: #bbbbc2; font-size: 12px;\">{step_footnote}</span> \"\"\"\n",
    "        yield gr.ChatMessage(role=\"assistant\", content=f\"{step_footnote}\")\n",
    "        yield gr.ChatMessage(role=\"assistant\", content=\"-----\")\n",
    "\n",
    "\n",
    "def stream_to_gradio(\n",
    "    agent,\n",
    "    task: str,\n",
    "    reset_agent_memory: bool = False,\n",
    "    additional_args: Optional[dict] = None,\n",
    "):\n",
    "    \"\"\"Runs an agent with the given task and streams the messages from the agent as gradio ChatMessages.\"\"\"\n",
    "    if not _is_package_available(\"gradio\"):\n",
    "        raise ModuleNotFoundError(\n",
    "            \"Please install 'gradio' extra to use the GradioUI: `pip install 'smolagents[gradio]'`\"\n",
    "        )\n",
    "    import gradio as gr\n",
    "\n",
    "    total_input_tokens = 0\n",
    "    total_output_tokens = 0\n",
    "\n",
    "    for step_log in agent.run(task, stream=True, reset=reset_agent_memory, additional_args=additional_args):\n",
    "        # Track tokens if model provides them\n",
    "        if hasattr(agent.model, \"last_input_token_count\"):\n",
    "            total_input_tokens += agent.model.last_input_token_count\n",
    "            total_output_tokens += agent.model.last_output_token_count\n",
    "            if isinstance(step_log, ActionStep):\n",
    "                step_log.input_token_count = agent.model.last_input_token_count\n",
    "                step_log.output_token_count = agent.model.last_output_token_count\n",
    "\n",
    "        for message in pull_messages_from_step(\n",
    "            step_log,\n",
    "        ):\n",
    "            yield message\n",
    "\n",
    "    final_answer = step_log  # Last log is the run's final_answer\n",
    "    final_answer = handle_agent_output_types(final_answer)\n",
    "\n",
    "    if isinstance(final_answer, AgentText):\n",
    "        yield gr.ChatMessage(\n",
    "            role=\"assistant\",\n",
    "            content=f\"**Final answer:**\\n{final_answer.to_string()}\\n\",\n",
    "        )\n",
    "    elif isinstance(final_answer, AgentImage):\n",
    "        yield gr.ChatMessage(\n",
    "            role=\"assistant\",\n",
    "            content={\"path\": final_answer.to_string(), \"mime_type\": \"image/png\"},\n",
    "        )\n",
    "    elif isinstance(final_answer, AgentAudio):\n",
    "        yield gr.ChatMessage(\n",
    "            role=\"assistant\",\n",
    "            content={\"path\": final_answer.to_string(), \"mime_type\": \"audio/wav\"},\n",
    "        )\n",
    "    else:\n",
    "        yield gr.ChatMessage(role=\"assistant\", content=f\"**Final answer:** {str(final_answer)}\")\n",
    "\n",
    "\n",
    "class GradioUI:\n",
    "    \"\"\"A one-line interface to launch your agent in Gradio\"\"\"\n",
    "\n",
    "    def __init__(self, agent: MultiStepAgent, file_upload_folder: str | None = None):\n",
    "        if not _is_package_available(\"gradio\"):\n",
    "            raise ModuleNotFoundError(\n",
    "                \"Please install 'gradio' extra to use the GradioUI: `pip install 'smolagents[gradio]'`\"\n",
    "            )\n",
    "        self.agent = agent\n",
    "        self.file_upload_folder = file_upload_folder\n",
    "        if self.file_upload_folder is not None:\n",
    "            if not os.path.exists(file_upload_folder):\n",
    "                os.mkdir(file_upload_folder)\n",
    "\n",
    "    def interact_with_agent(self, prompt, messages):\n",
    "        import gradio as gr\n",
    "\n",
    "        messages.append(gr.ChatMessage(role=\"user\", content=prompt))\n",
    "        yield messages\n",
    "        for msg in stream_to_gradio(self.agent, task=prompt, reset_agent_memory=False):\n",
    "            messages.append(msg)\n",
    "            yield messages\n",
    "        yield messages\n",
    "\n",
    "    def upload_file(\n",
    "        self,\n",
    "        file,\n",
    "        file_uploads_log,\n",
    "        allowed_file_types=[\n",
    "            \"application/pdf\",\n",
    "            \"application/vnd.openxmlformats-officedocument.wordprocessingml.document\",\n",
    "            \"text/plain\",\n",
    "        ],\n",
    "    ):\n",
    "        \"\"\"\n",
    "        Handle file uploads, default allowed types are .pdf, .docx, and .txt\n",
    "        \"\"\"\n",
    "        import gradio as gr\n",
    "\n",
    "        if file is None:\n",
    "            return gr.Textbox(\"No file uploaded\", visible=True), file_uploads_log\n",
    "\n",
    "        try:\n",
    "            mime_type, _ = mimetypes.guess_type(file.name)\n",
    "        except Exception as e:\n",
    "            return gr.Textbox(f\"Error: {e}\", visible=True), file_uploads_log\n",
    "\n",
    "        if mime_type not in allowed_file_types:\n",
    "            return gr.Textbox(\"File type disallowed\", visible=True), file_uploads_log\n",
    "\n",
    "        # Sanitize file name\n",
    "        original_name = os.path.basename(file.name)\n",
    "        sanitized_name = re.sub(\n",
    "            r\"[^\\w\\-.]\", \"_\", original_name\n",
    "        )  # Replace any non-alphanumeric, non-dash, or non-dot characters with underscores\n",
    "\n",
    "        type_to_ext = {}\n",
    "        for ext, t in mimetypes.types_map.items():\n",
    "            if t not in type_to_ext:\n",
    "                type_to_ext[t] = ext\n",
    "\n",
    "        # Ensure the extension correlates to the mime type\n",
    "        sanitized_name = sanitized_name.split(\".\")[:-1]\n",
    "        sanitized_name.append(\"\" + type_to_ext[mime_type])\n",
    "        sanitized_name = \"\".join(sanitized_name)\n",
    "\n",
    "        # Save the uploaded file to the specified folder\n",
    "        file_path = os.path.join(self.file_upload_folder, os.path.basename(sanitized_name))\n",
    "        shutil.copy(file.name, file_path)\n",
    "\n",
    "        return gr.Textbox(f\"File uploaded: {file_path}\", visible=True), file_uploads_log + [file_path]\n",
    "\n",
    "    def log_user_message(self, text_input, file_uploads_log):\n",
    "        return (\n",
    "            text_input\n",
    "            + (\n",
    "                f\"\\nYou have been provided with these files, which might be helpful or not: {file_uploads_log}\"\n",
    "                if len(file_uploads_log) > 0\n",
    "                else \"\"\n",
    "            ),\n",
    "            \"\",\n",
    "        )\n",
    "\n",
    "    def launch(self, **kwargs):\n",
    "        import gradio as gr\n",
    "\n",
    "        with gr.Blocks(fill_height=True) as demo:\n",
    "            stored_messages = gr.State([])\n",
    "            file_uploads_log = gr.State([])\n",
    "            chatbot = gr.Chatbot(\n",
    "                label=\"Agent\",\n",
    "                type=\"messages\",\n",
    "                avatar_images=(\n",
    "                    None,\n",
    "                    \"https://huggingface.co/datasets/agents-course/course-images/resolve/main/en/communication/Alfred.png\",\n",
    "                ),\n",
    "                scale=1,\n",
    "            )\n",
    "            # If an upload folder is provided, enable the upload feature\n",
    "            if self.file_upload_folder is not None:\n",
    "                upload_file = gr.File(label=\"Upload a file\")\n",
    "                upload_status = gr.Textbox(label=\"Upload Status\", interactive=False, visible=False)\n",
    "                upload_file.change(\n",
    "                    self.upload_file,\n",
    "                    [upload_file, file_uploads_log],\n",
    "                    [upload_status, file_uploads_log],\n",
    "                )\n",
    "            text_input = gr.Textbox(lines=1, label=\"Chat Message\")\n",
    "            text_input.submit(\n",
    "                self.log_user_message,\n",
    "                [text_input, file_uploads_log],\n",
    "                [stored_messages, text_input],\n",
    "            ).then(self.interact_with_agent, [stored_messages, chatbot], [chatbot])\n",
    "\n",
    "        demo.launch(debug=True, share=True, **kwargs)\n",
    "\n",
    "\n",
    "__all__ = [\"stream_to_gradio\", \"GradioUI\"]"
   ]
  },
  {
   "cell_type": "markdown",
   "metadata": {},
   "source": [
    "## Agent"
   ]
  },
  {
   "cell_type": "code",
   "execution_count": 19,
   "metadata": {},
   "outputs": [
    {
     "name": "stdout",
     "output_type": "stream",
     "text": [
      "* Running on local URL:  http://127.0.0.1:7860\n",
      "* Running on public URL: https://03cc413e0c5b254d86.gradio.live\n",
      "\n",
      "This share link expires in 72 hours. For free permanent hosting and GPU upgrades, run `gradio deploy` from the terminal in the working directory to deploy to Hugging Face Spaces (https://huggingface.co/spaces)\n"
     ]
    },
    {
     "data": {
      "text/html": [
       "<div><iframe src=\"https://03cc413e0c5b254d86.gradio.live\" width=\"100%\" height=\"500\" allow=\"autoplay; camera; microphone; clipboard-read; clipboard-write;\" frameborder=\"0\" allowfullscreen></iframe></div>"
      ],
      "text/plain": [
       "<IPython.core.display.HTML object>"
      ]
     },
     "metadata": {},
     "output_type": "display_data"
    },
    {
     "data": {
      "text/html": [
       "<pre style=\"white-space:pre;overflow-x:auto;line-height:normal;font-family:Menlo,'DejaVu Sans Mono',consolas,'Courier New',monospace\"><span style=\"color: #d4b702; text-decoration-color: #d4b702\">╭──────────────────────────────────────────────────── </span><span style=\"color: #d4b702; text-decoration-color: #d4b702; font-weight: bold\">New run</span><span style=\"color: #d4b702; text-decoration-color: #d4b702\"> ────────────────────────────────────────────────────╮</span>\n",
       "<span style=\"color: #d4b702; text-decoration-color: #d4b702\">│</span>                                                                                                                 <span style=\"color: #d4b702; text-decoration-color: #d4b702\">│</span>\n",
       "<span style=\"color: #d4b702; text-decoration-color: #d4b702\">│</span> <span style=\"font-weight: bold\">What's the time in Paris?</span>                                                                                       <span style=\"color: #d4b702; text-decoration-color: #d4b702\">│</span>\n",
       "<span style=\"color: #d4b702; text-decoration-color: #d4b702\">│</span>                                                                                                                 <span style=\"color: #d4b702; text-decoration-color: #d4b702\">│</span>\n",
       "<span style=\"color: #d4b702; text-decoration-color: #d4b702\">╰─ HfApiModel - Qwen/Qwen2.5-Coder-32B-Instruct ──────────────────────────────────────────────────────────────────╯</span>\n",
       "</pre>\n"
      ],
      "text/plain": [
       "\u001b[38;2;212;183;2m╭─\u001b[0m\u001b[38;2;212;183;2m───────────────────────────────────────────────────\u001b[0m\u001b[38;2;212;183;2m \u001b[0m\u001b[1;38;2;212;183;2mNew run\u001b[0m\u001b[38;2;212;183;2m \u001b[0m\u001b[38;2;212;183;2m───────────────────────────────────────────────────\u001b[0m\u001b[38;2;212;183;2m─╮\u001b[0m\n",
       "\u001b[38;2;212;183;2m│\u001b[0m                                                                                                                 \u001b[38;2;212;183;2m│\u001b[0m\n",
       "\u001b[38;2;212;183;2m│\u001b[0m \u001b[1mWhat's the time in Paris?\u001b[0m                                                                                       \u001b[38;2;212;183;2m│\u001b[0m\n",
       "\u001b[38;2;212;183;2m│\u001b[0m                                                                                                                 \u001b[38;2;212;183;2m│\u001b[0m\n",
       "\u001b[38;2;212;183;2m╰─\u001b[0m\u001b[38;2;212;183;2m HfApiModel - Qwen/Qwen2.5-Coder-32B-Instruct \u001b[0m\u001b[38;2;212;183;2m─────────────────────────────────────────────────────────────────\u001b[0m\u001b[38;2;212;183;2m─╯\u001b[0m\n"
      ]
     },
     "metadata": {},
     "output_type": "display_data"
    },
    {
     "data": {
      "text/html": [
       "<pre style=\"white-space:pre;overflow-x:auto;line-height:normal;font-family:Menlo,'DejaVu Sans Mono',consolas,'Courier New',monospace\"><span style=\"color: #d4b702; text-decoration-color: #d4b702\">━━━━━━━━━━━━━━━━━━━━━━━━━━━━━━━━━━━━━━━━━━━━━━━━━━━━━ </span><span style=\"font-weight: bold\">Step </span><span style=\"color: #008080; text-decoration-color: #008080; font-weight: bold\">1</span><span style=\"color: #d4b702; text-decoration-color: #d4b702\"> ━━━━━━━━━━━━━━━━━━━━━━━━━━━━━━━━━━━━━━━━━━━━━━━━━━━━━━</span>\n",
       "</pre>\n"
      ],
      "text/plain": [
       "\u001b[38;2;212;183;2m━━━━━━━━━━━━━━━━━━━━━━━━━━━━━━━━━━━━━━━━━━━━━━━━━━━━━ \u001b[0m\u001b[1mStep \u001b[0m\u001b[1;36m1\u001b[0m\u001b[38;2;212;183;2m ━━━━━━━━━━━━━━━━━━━━━━━━━━━━━━━━━━━━━━━━━━━━━━━━━━━━━━\u001b[0m\n"
      ]
     },
     "metadata": {},
     "output_type": "display_data"
    },
    {
     "data": {
      "text/html": [
       "<pre style=\"white-space:pre;overflow-x:auto;line-height:normal;font-family:Menlo,'DejaVu Sans Mono',consolas,'Courier New',monospace\"> ─ <span style=\"font-weight: bold\">Executing parsed code:</span> ──────────────────────────────────────────────────────────────────────────────────────── \n",
       "  <span style=\"color: #f8f8f2; text-decoration-color: #f8f8f2; background-color: #272822\">paris_time </span><span style=\"color: #ff4689; text-decoration-color: #ff4689; background-color: #272822\">=</span><span style=\"color: #f8f8f2; text-decoration-color: #f8f8f2; background-color: #272822\"> get_current_time_in_timezone(timezone</span><span style=\"color: #ff4689; text-decoration-color: #ff4689; background-color: #272822\">=</span><span style=\"color: #e6db74; text-decoration-color: #e6db74; background-color: #272822\">\"Europe/Paris\"</span><span style=\"color: #f8f8f2; text-decoration-color: #f8f8f2; background-color: #272822\">)</span><span style=\"background-color: #272822\">                                             </span>  \n",
       "  <span style=\"color: #f8f8f2; text-decoration-color: #f8f8f2; background-color: #272822\">print(paris_time)</span><span style=\"background-color: #272822\">                                                                                              </span>  \n",
       " ───────────────────────────────────────────────────────────────────────────────────────────────────────────────── \n",
       "</pre>\n"
      ],
      "text/plain": [
       " ─ \u001b[1mExecuting parsed code:\u001b[0m ──────────────────────────────────────────────────────────────────────────────────────── \n",
       "  \u001b[38;2;248;248;242;48;2;39;40;34mparis_time\u001b[0m\u001b[38;2;248;248;242;48;2;39;40;34m \u001b[0m\u001b[38;2;255;70;137;48;2;39;40;34m=\u001b[0m\u001b[38;2;248;248;242;48;2;39;40;34m \u001b[0m\u001b[38;2;248;248;242;48;2;39;40;34mget_current_time_in_timezone\u001b[0m\u001b[38;2;248;248;242;48;2;39;40;34m(\u001b[0m\u001b[38;2;248;248;242;48;2;39;40;34mtimezone\u001b[0m\u001b[38;2;255;70;137;48;2;39;40;34m=\u001b[0m\u001b[38;2;230;219;116;48;2;39;40;34m\"\u001b[0m\u001b[38;2;230;219;116;48;2;39;40;34mEurope/Paris\u001b[0m\u001b[38;2;230;219;116;48;2;39;40;34m\"\u001b[0m\u001b[38;2;248;248;242;48;2;39;40;34m)\u001b[0m\u001b[48;2;39;40;34m                                             \u001b[0m  \n",
       "  \u001b[38;2;248;248;242;48;2;39;40;34mprint\u001b[0m\u001b[38;2;248;248;242;48;2;39;40;34m(\u001b[0m\u001b[38;2;248;248;242;48;2;39;40;34mparis_time\u001b[0m\u001b[38;2;248;248;242;48;2;39;40;34m)\u001b[0m\u001b[48;2;39;40;34m                                                                                              \u001b[0m  \n",
       " ───────────────────────────────────────────────────────────────────────────────────────────────────────────────── \n"
      ]
     },
     "metadata": {},
     "output_type": "display_data"
    },
    {
     "data": {
      "text/html": [
       "<pre style=\"white-space:pre;overflow-x:auto;line-height:normal;font-family:Menlo,'DejaVu Sans Mono',consolas,'Courier New',monospace\"><span style=\"font-weight: bold\">Execution logs:</span>\n",
       "The current local time in Europe/Paris is: 2025-02-22 13:35:51\n",
       "\n",
       "Out: None\n",
       "</pre>\n"
      ],
      "text/plain": [
       "\u001b[1mExecution logs:\u001b[0m\n",
       "The current local time in Europe/Paris is: 2025-02-22 13:35:51\n",
       "\n",
       "Out: None\n"
      ]
     },
     "metadata": {},
     "output_type": "display_data"
    },
    {
     "data": {
      "text/html": [
       "<pre style=\"white-space:pre;overflow-x:auto;line-height:normal;font-family:Menlo,'DejaVu Sans Mono',consolas,'Courier New',monospace\"><span style=\"color: #7f7f7f; text-decoration-color: #7f7f7f\">[Step 0: Duration 4.50 seconds| Input tokens: 2,345 | Output tokens: 55]</span>\n",
       "</pre>\n"
      ],
      "text/plain": [
       "\u001b[2m[Step 0: Duration 4.50 seconds| Input tokens: 2,345 | Output tokens: 55]\u001b[0m\n"
      ]
     },
     "metadata": {},
     "output_type": "display_data"
    },
    {
     "data": {
      "text/html": [
       "<pre style=\"white-space:pre;overflow-x:auto;line-height:normal;font-family:Menlo,'DejaVu Sans Mono',consolas,'Courier New',monospace\"><span style=\"color: #d4b702; text-decoration-color: #d4b702\">━━━━━━━━━━━━━━━━━━━━━━━━━━━━━━━━━━━━━━━━━━━━━━━━━━━━━ </span><span style=\"font-weight: bold\">Step </span><span style=\"color: #008080; text-decoration-color: #008080; font-weight: bold\">2</span><span style=\"color: #d4b702; text-decoration-color: #d4b702\"> ━━━━━━━━━━━━━━━━━━━━━━━━━━━━━━━━━━━━━━━━━━━━━━━━━━━━━━</span>\n",
       "</pre>\n"
      ],
      "text/plain": [
       "\u001b[38;2;212;183;2m━━━━━━━━━━━━━━━━━━━━━━━━━━━━━━━━━━━━━━━━━━━━━━━━━━━━━ \u001b[0m\u001b[1mStep \u001b[0m\u001b[1;36m2\u001b[0m\u001b[38;2;212;183;2m ━━━━━━━━━━━━━━━━━━━━━━━━━━━━━━━━━━━━━━━━━━━━━━━━━━━━━━\u001b[0m\n"
      ]
     },
     "metadata": {},
     "output_type": "display_data"
    },
    {
     "data": {
      "text/html": [
       "<pre style=\"white-space:pre;overflow-x:auto;line-height:normal;font-family:Menlo,'DejaVu Sans Mono',consolas,'Courier New',monospace\"> ─ <span style=\"font-weight: bold\">Executing parsed code:</span> ──────────────────────────────────────────────────────────────────────────────────────── \n",
       "  <span style=\"color: #f8f8f2; text-decoration-color: #f8f8f2; background-color: #272822\">paris_time </span><span style=\"color: #ff4689; text-decoration-color: #ff4689; background-color: #272822\">=</span><span style=\"color: #f8f8f2; text-decoration-color: #f8f8f2; background-color: #272822\"> get_current_time_in_timezone(timezone</span><span style=\"color: #ff4689; text-decoration-color: #ff4689; background-color: #272822\">=</span><span style=\"color: #e6db74; text-decoration-color: #e6db74; background-color: #272822\">\"Europe/Paris\"</span><span style=\"color: #f8f8f2; text-decoration-color: #f8f8f2; background-color: #272822\">)</span><span style=\"background-color: #272822\">                                             </span>  \n",
       "  <span style=\"color: #f8f8f2; text-decoration-color: #f8f8f2; background-color: #272822\">final_answer(paris_time)</span><span style=\"background-color: #272822\">                                                                                       </span>  \n",
       " ───────────────────────────────────────────────────────────────────────────────────────────────────────────────── \n",
       "</pre>\n"
      ],
      "text/plain": [
       " ─ \u001b[1mExecuting parsed code:\u001b[0m ──────────────────────────────────────────────────────────────────────────────────────── \n",
       "  \u001b[38;2;248;248;242;48;2;39;40;34mparis_time\u001b[0m\u001b[38;2;248;248;242;48;2;39;40;34m \u001b[0m\u001b[38;2;255;70;137;48;2;39;40;34m=\u001b[0m\u001b[38;2;248;248;242;48;2;39;40;34m \u001b[0m\u001b[38;2;248;248;242;48;2;39;40;34mget_current_time_in_timezone\u001b[0m\u001b[38;2;248;248;242;48;2;39;40;34m(\u001b[0m\u001b[38;2;248;248;242;48;2;39;40;34mtimezone\u001b[0m\u001b[38;2;255;70;137;48;2;39;40;34m=\u001b[0m\u001b[38;2;230;219;116;48;2;39;40;34m\"\u001b[0m\u001b[38;2;230;219;116;48;2;39;40;34mEurope/Paris\u001b[0m\u001b[38;2;230;219;116;48;2;39;40;34m\"\u001b[0m\u001b[38;2;248;248;242;48;2;39;40;34m)\u001b[0m\u001b[48;2;39;40;34m                                             \u001b[0m  \n",
       "  \u001b[38;2;248;248;242;48;2;39;40;34mfinal_answer\u001b[0m\u001b[38;2;248;248;242;48;2;39;40;34m(\u001b[0m\u001b[38;2;248;248;242;48;2;39;40;34mparis_time\u001b[0m\u001b[38;2;248;248;242;48;2;39;40;34m)\u001b[0m\u001b[48;2;39;40;34m                                                                                       \u001b[0m  \n",
       " ───────────────────────────────────────────────────────────────────────────────────────────────────────────────── \n"
      ]
     },
     "metadata": {},
     "output_type": "display_data"
    },
    {
     "data": {
      "text/html": [
       "<pre style=\"white-space:pre;overflow-x:auto;line-height:normal;font-family:Menlo,'DejaVu Sans Mono',consolas,'Courier New',monospace\"><span style=\"color: #d4b702; text-decoration-color: #d4b702; font-weight: bold\">Out - Final answer: The current local time in Europe/Paris is: 2025-02-22 13:35:56</span>\n",
       "</pre>\n"
      ],
      "text/plain": [
       "\u001b[1;38;2;212;183;2mOut - Final answer: The current local time in Europe/Paris is: 2025-02-22 13:35:56\u001b[0m\n"
      ]
     },
     "metadata": {},
     "output_type": "display_data"
    },
    {
     "data": {
      "text/html": [
       "<pre style=\"white-space:pre;overflow-x:auto;line-height:normal;font-family:Menlo,'DejaVu Sans Mono',consolas,'Courier New',monospace\"><span style=\"color: #7f7f7f; text-decoration-color: #7f7f7f\">[Step 1: Duration 4.83 seconds| Input tokens: 4,864 | Output tokens: 131]</span>\n",
       "</pre>\n"
      ],
      "text/plain": [
       "\u001b[2m[Step 1: Duration 4.83 seconds| Input tokens: 4,864 | Output tokens: 131]\u001b[0m\n"
      ]
     },
     "metadata": {},
     "output_type": "display_data"
    },
    {
     "data": {
      "text/html": [
       "<pre style=\"white-space:pre;overflow-x:auto;line-height:normal;font-family:Menlo,'DejaVu Sans Mono',consolas,'Courier New',monospace\"><span style=\"color: #d4b702; text-decoration-color: #d4b702\">╭──────────────────────────────────────────────────── </span><span style=\"color: #d4b702; text-decoration-color: #d4b702; font-weight: bold\">New run</span><span style=\"color: #d4b702; text-decoration-color: #d4b702\"> ────────────────────────────────────────────────────╮</span>\n",
       "<span style=\"color: #d4b702; text-decoration-color: #d4b702\">│</span>                                                                                                                 <span style=\"color: #d4b702; text-decoration-color: #d4b702\">│</span>\n",
       "<span style=\"color: #d4b702; text-decoration-color: #d4b702\">│</span> <span style=\"font-weight: bold\">Generate an image with a dog swimming</span>                                                                           <span style=\"color: #d4b702; text-decoration-color: #d4b702\">│</span>\n",
       "<span style=\"color: #d4b702; text-decoration-color: #d4b702\">│</span>                                                                                                                 <span style=\"color: #d4b702; text-decoration-color: #d4b702\">│</span>\n",
       "<span style=\"color: #d4b702; text-decoration-color: #d4b702\">╰─ HfApiModel - Qwen/Qwen2.5-Coder-32B-Instruct ──────────────────────────────────────────────────────────────────╯</span>\n",
       "</pre>\n"
      ],
      "text/plain": [
       "\u001b[38;2;212;183;2m╭─\u001b[0m\u001b[38;2;212;183;2m───────────────────────────────────────────────────\u001b[0m\u001b[38;2;212;183;2m \u001b[0m\u001b[1;38;2;212;183;2mNew run\u001b[0m\u001b[38;2;212;183;2m \u001b[0m\u001b[38;2;212;183;2m───────────────────────────────────────────────────\u001b[0m\u001b[38;2;212;183;2m─╮\u001b[0m\n",
       "\u001b[38;2;212;183;2m│\u001b[0m                                                                                                                 \u001b[38;2;212;183;2m│\u001b[0m\n",
       "\u001b[38;2;212;183;2m│\u001b[0m \u001b[1mGenerate an image with a dog swimming\u001b[0m                                                                           \u001b[38;2;212;183;2m│\u001b[0m\n",
       "\u001b[38;2;212;183;2m│\u001b[0m                                                                                                                 \u001b[38;2;212;183;2m│\u001b[0m\n",
       "\u001b[38;2;212;183;2m╰─\u001b[0m\u001b[38;2;212;183;2m HfApiModel - Qwen/Qwen2.5-Coder-32B-Instruct \u001b[0m\u001b[38;2;212;183;2m─────────────────────────────────────────────────────────────────\u001b[0m\u001b[38;2;212;183;2m─╯\u001b[0m\n"
      ]
     },
     "metadata": {},
     "output_type": "display_data"
    },
    {
     "data": {
      "text/html": [
       "<pre style=\"white-space:pre;overflow-x:auto;line-height:normal;font-family:Menlo,'DejaVu Sans Mono',consolas,'Courier New',monospace\"><span style=\"color: #d4b702; text-decoration-color: #d4b702\">━━━━━━━━━━━━━━━━━━━━━━━━━━━━━━━━━━━━━━━━━━━━━━━━━━━━━ </span><span style=\"font-weight: bold\">Step </span><span style=\"color: #008080; text-decoration-color: #008080; font-weight: bold\">1</span><span style=\"color: #d4b702; text-decoration-color: #d4b702\"> ━━━━━━━━━━━━━━━━━━━━━━━━━━━━━━━━━━━━━━━━━━━━━━━━━━━━━━</span>\n",
       "</pre>\n"
      ],
      "text/plain": [
       "\u001b[38;2;212;183;2m━━━━━━━━━━━━━━━━━━━━━━━━━━━━━━━━━━━━━━━━━━━━━━━━━━━━━ \u001b[0m\u001b[1mStep \u001b[0m\u001b[1;36m1\u001b[0m\u001b[38;2;212;183;2m ━━━━━━━━━━━━━━━━━━━━━━━━━━━━━━━━━━━━━━━━━━━━━━━━━━━━━━\u001b[0m\n"
      ]
     },
     "metadata": {},
     "output_type": "display_data"
    },
    {
     "data": {
      "text/html": [
       "<pre style=\"white-space:pre;overflow-x:auto;line-height:normal;font-family:Menlo,'DejaVu Sans Mono',consolas,'Courier New',monospace\"> ─ <span style=\"font-weight: bold\">Executing parsed code:</span> ──────────────────────────────────────────────────────────────────────────────────────── \n",
       "  <span style=\"color: #f8f8f2; text-decoration-color: #f8f8f2; background-color: #272822\">image </span><span style=\"color: #ff4689; text-decoration-color: #ff4689; background-color: #272822\">=</span><span style=\"color: #f8f8f2; text-decoration-color: #f8f8f2; background-color: #272822\"> image_generator(prompt</span><span style=\"color: #ff4689; text-decoration-color: #ff4689; background-color: #272822\">=</span><span style=\"color: #e6db74; text-decoration-color: #e6db74; background-color: #272822\">\"A high-res, photorealistic image of a dog swimming in a lake.\"</span><span style=\"color: #f8f8f2; text-decoration-color: #f8f8f2; background-color: #272822\">)</span><span style=\"background-color: #272822\">                </span>  \n",
       "  <span style=\"color: #f8f8f2; text-decoration-color: #f8f8f2; background-color: #272822\">final_answer(image)</span><span style=\"background-color: #272822\">                                                                                            </span>  \n",
       " ───────────────────────────────────────────────────────────────────────────────────────────────────────────────── \n",
       "</pre>\n"
      ],
      "text/plain": [
       " ─ \u001b[1mExecuting parsed code:\u001b[0m ──────────────────────────────────────────────────────────────────────────────────────── \n",
       "  \u001b[38;2;248;248;242;48;2;39;40;34mimage\u001b[0m\u001b[38;2;248;248;242;48;2;39;40;34m \u001b[0m\u001b[38;2;255;70;137;48;2;39;40;34m=\u001b[0m\u001b[38;2;248;248;242;48;2;39;40;34m \u001b[0m\u001b[38;2;248;248;242;48;2;39;40;34mimage_generator\u001b[0m\u001b[38;2;248;248;242;48;2;39;40;34m(\u001b[0m\u001b[38;2;248;248;242;48;2;39;40;34mprompt\u001b[0m\u001b[38;2;255;70;137;48;2;39;40;34m=\u001b[0m\u001b[38;2;230;219;116;48;2;39;40;34m\"\u001b[0m\u001b[38;2;230;219;116;48;2;39;40;34mA high-res, photorealistic image of a dog swimming in a lake.\u001b[0m\u001b[38;2;230;219;116;48;2;39;40;34m\"\u001b[0m\u001b[38;2;248;248;242;48;2;39;40;34m)\u001b[0m\u001b[48;2;39;40;34m                \u001b[0m  \n",
       "  \u001b[38;2;248;248;242;48;2;39;40;34mfinal_answer\u001b[0m\u001b[38;2;248;248;242;48;2;39;40;34m(\u001b[0m\u001b[38;2;248;248;242;48;2;39;40;34mimage\u001b[0m\u001b[38;2;248;248;242;48;2;39;40;34m)\u001b[0m\u001b[48;2;39;40;34m                                                                                            \u001b[0m  \n",
       " ───────────────────────────────────────────────────────────────────────────────────────────────────────────────── \n"
      ]
     },
     "metadata": {},
     "output_type": "display_data"
    },
    {
     "data": {
      "text/html": [
       "<pre style=\"white-space:pre;overflow-x:auto;line-height:normal;font-family:Menlo,'DejaVu Sans Mono',consolas,'Courier New',monospace\"><span style=\"color: #d4b702; text-decoration-color: #d4b702; font-weight: bold\">Out - Final answer: &lt;PIL.JpegImagePlugin.JpegImageFile image mode=RGB size=1024x1024 at 0x168C145F0&gt;</span>\n",
       "</pre>\n"
      ],
      "text/plain": [
       "\u001b[1;38;2;212;183;2mOut - Final answer: <PIL.JpegImagePlugin.JpegImageFile image mode=RGB size=1024x1024 at 0x168C145F0>\u001b[0m\n"
      ]
     },
     "metadata": {},
     "output_type": "display_data"
    },
    {
     "data": {
      "text/html": [
       "<pre style=\"white-space:pre;overflow-x:auto;line-height:normal;font-family:Menlo,'DejaVu Sans Mono',consolas,'Courier New',monospace\"><span style=\"color: #7f7f7f; text-decoration-color: #7f7f7f\">[Step 2: Duration 18.79 seconds| Input tokens: 7,587 | Output tokens: 187]</span>\n",
       "</pre>\n"
      ],
      "text/plain": [
       "\u001b[2m[Step 2: Duration 18.79 seconds| Input tokens: 7,587 | Output tokens: 187]\u001b[0m\n"
      ]
     },
     "metadata": {},
     "output_type": "display_data"
    },
    {
     "name": "stdout",
     "output_type": "stream",
     "text": [
      "Keyboard interruption in main thread... closing server.\n",
      "Killing tunnel 127.0.0.1:7860 <> https://03cc413e0c5b254d86.gradio.live\n"
     ]
    }
   ],
   "source": [
    "from smolagents import CodeAgent,DuckDuckGoSearchTool, HfApiModel,load_tool,tool\n",
    "import datetime\n",
    "import requests\n",
    "import pytz\n",
    "import yaml\n",
    "\n",
    "# Below is an example of a tool that does nothing. Amaze us with your creativity !\n",
    "@tool\n",
    "def my_custom_tool(arg1:str, arg2:int)-> str: #it's import to specify the return type\n",
    "    #Keep this format for the description / args / args description but feel free to modify the tool\n",
    "    \"\"\"A tool that does nothing yet \n",
    "    Args:\n",
    "        arg1: the first argument\n",
    "        arg2: the second argument\n",
    "    \"\"\"\n",
    "    return \"What magic will you build ?\"\n",
    "\n",
    "@tool\n",
    "def get_current_time_in_timezone(timezone: str) -> str:\n",
    "    \"\"\"A tool that fetches the current local time in a specified timezone.\n",
    "    Args:\n",
    "        timezone: A string representing a valid timezone (e.g., 'America/New_York').\n",
    "    \"\"\"\n",
    "    try:\n",
    "        # Create timezone object\n",
    "        tz = pytz.timezone(timezone)\n",
    "        # Get current time in that timezone\n",
    "        local_time = datetime.datetime.now(tz).strftime(\"%Y-%m-%d %H:%M:%S\")\n",
    "        return f\"The current local time in {timezone} is: {local_time}\"\n",
    "    except Exception as e:\n",
    "        return f\"Error fetching time for timezone '{timezone}': {str(e)}\"\n",
    "\n",
    "\n",
    "final_answer = FinalAnswerTool()\n",
    "\n",
    "# If the agent does not answer, the model is overloaded, please use another model or the following Hugging Face Endpoint that also contains qwen2.5 coder:\n",
    "# model_id='https://pflgm2locj2t89co.us-east-1.aws.endpoints.huggingface.cloud' \n",
    "\n",
    "model = HfApiModel(\n",
    "max_tokens=2096,\n",
    "temperature=0.5,\n",
    "model_id='Qwen/Qwen2.5-Coder-32B-Instruct',# it is possible that this model may be overloaded\n",
    "custom_role_conversions=None,\n",
    ")\n",
    "\n",
    "\n",
    "# Import tool from Hub\n",
    "image_generation_tool = load_tool(\"agents-course/text-to-image\", trust_remote_code=True)\n",
    "\n",
    "with open(\"prompts.yaml\", 'r') as stream:\n",
    "    prompt_templates = yaml.safe_load(stream)\n",
    "    \n",
    "agent = CodeAgent(\n",
    "    model=model,\n",
    "    tools=[final_answer, DuckDuckGoSearchTool(), my_custom_tool, get_current_time_in_timezone, image_generation_tool, VisitWebpageTool()], ## add your tools here (don't remove final answer)\n",
    "    max_steps=6,\n",
    "    verbosity_level=1,\n",
    "    grammar=None,\n",
    "    planning_interval=None,\n",
    "    name=None,\n",
    "    description=None,\n",
    "    prompt_templates=prompt_templates\n",
    ")\n",
    "\n",
    "\n",
    "GradioUI(agent).launch()"
   ]
  },
  {
   "cell_type": "code",
   "execution_count": null,
   "metadata": {},
   "outputs": [],
   "source": []
  }
 ],
 "metadata": {
  "kernelspec": {
   "display_name": ".venv",
   "language": "python",
   "name": "python3"
  },
  "language_info": {
   "codemirror_mode": {
    "name": "ipython",
    "version": 3
   },
   "file_extension": ".py",
   "mimetype": "text/x-python",
   "name": "python",
   "nbconvert_exporter": "python",
   "pygments_lexer": "ipython3",
   "version": "3.12.6"
  }
 },
 "nbformat": 4,
 "nbformat_minor": 2
}
