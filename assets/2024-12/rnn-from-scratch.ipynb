{
  "cells": [
    {
      "cell_type": "markdown",
      "metadata": {
        "colab_type": "text",
        "id": "view-in-github"
      },
      "source": [
        "<a href=\"https://colab.research.google.com/github/lsoica/blog/blob/main/assets/rnn-from-scratch.ipynb\" target=\"_parent\"><img src=\"https://colab.research.google.com/assets/colab-badge.svg\" alt=\"Open In Colab\"/></a>"
      ]
    },
    {
      "cell_type": "markdown",
      "metadata": {
        "id": "aTOLgsbN69-P"
      },
      "source": [
        "# RNN from scratch\n",
        "\n",
        "RNNs acts as sequence processors. They take a sequence of inputs, and produce a sequence of outputs. The input sequence length is variable, it can take a sequence of 7 steps or 7000 steps, doesn't matter.\n",
        "\n",
        "We have:\n",
        " - Input layer: one weights matrix and one bias vector\n",
        " - Hidden layer: one weights matrix and one bias vector\n",
        " - Output layer: one weights matrix and one bias vector\n",
        "\n",
        "![RNN architecture](./rnn-from-scratch.png)\n",
        "\n",
        " For each input X, we have:\n",
        " - Input layer: $XI = X \\times W_i + b_i$\n",
        " - Hidden layer: $XH(t_n) = \\text{activation}(XH(t_{n-1}) + XI)$\n",
        " - Output layer: $XO = XH(t_n) \\times W_o + b_o$\n",
        "\n"
      ]
    },
    {
      "cell_type": "markdown",
      "metadata": {},
      "source": [
        "![RNN operations](./rnn_operations.png)\n",
        "\n",
        "![RNN operations](./rnn-matrix.png)"
      ]
    },
    {
      "cell_type": "markdown",
      "metadata": {},
      "source": [
        "\n",
        " \n",
        " - Input has 3 features so its shape is: (1, 3)\n",
        " - Input layer has 5 neurons, so its weights shape is: (3, 5). XI has shape (1, 5)\n",
        " - Hidden layer has 5 neurons, so its weights shape is: (5, 5). XH has shape (1, 5) as it XH_previous (1,5) @ H_weights (5,5) = (1,5). XI+XH has shape (1, 5). The resulting XH has shape (1, 5).\n",
        " - Output layer has 1 neuron, so its weights shape is: (5, 1). XO has shape (1, 1)"
      ]
    },
    {
      "cell_type": "markdown",
      "metadata": {},
      "source": [
        "## Install required packages"
      ]
    },
    {
      "cell_type": "code",
      "execution_count": null,
      "metadata": {},
      "outputs": [],
      "source": [
        "!pip install torch matplotlib\n"
      ]
    },
    {
      "cell_type": "markdown",
      "metadata": {},
      "source": [
        "## Download the data"
      ]
    },
    {
      "cell_type": "code",
      "execution_count": 2,
      "metadata": {},
      "outputs": [
        {
          "name": "stdout",
          "output_type": "stream",
          "text": [
            "  % Total    % Received % Xferd  Average Speed   Time    Time     Time  Current\n",
            "                                 Dload  Upload   Total   Spent    Left  Speed\n",
            "100  396k  100  396k    0     0   727k      0 --:--:-- --:--:-- --:--:--  726k\n"
          ]
        }
      ],
      "source": [
        "!curl https://raw.githubusercontent.com/VikParuchuri/zero_to_gpt/refs/heads/master/data/clean_weather.csv -o clean_weather.csv"
      ]
    },
    {
      "cell_type": "markdown",
      "metadata": {},
      "source": [
        "## Import libraries"
      ]
    },
    {
      "cell_type": "code",
      "execution_count": 4,
      "metadata": {},
      "outputs": [],
      "source": [
        "import pandas as pd\n",
        "import numpy as np"
      ]
    },
    {
      "cell_type": "markdown",
      "metadata": {},
      "source": [
        "## Read the data\n",
        "\n",
        "Each row is a day, with columns for each weather variable. We have tmax, tmin, rain. tmax_tomorrow is the target, what we're trying to predict.\n",
        "\n",
        "ffill fills in missing values with the last known value."
      ]
    },
    {
      "cell_type": "code",
      "execution_count": 5,
      "metadata": {},
      "outputs": [
        {
          "data": {
            "text/html": [
              "<div>\n",
              "<style scoped>\n",
              "    .dataframe tbody tr th:only-of-type {\n",
              "        vertical-align: middle;\n",
              "    }\n",
              "\n",
              "    .dataframe tbody tr th {\n",
              "        vertical-align: top;\n",
              "    }\n",
              "\n",
              "    .dataframe thead th {\n",
              "        text-align: right;\n",
              "    }\n",
              "</style>\n",
              "<table border=\"1\" class=\"dataframe\">\n",
              "  <thead>\n",
              "    <tr style=\"text-align: right;\">\n",
              "      <th></th>\n",
              "      <th>tmax</th>\n",
              "      <th>tmin</th>\n",
              "      <th>rain</th>\n",
              "      <th>tmax_tomorrow</th>\n",
              "    </tr>\n",
              "  </thead>\n",
              "  <tbody>\n",
              "    <tr>\n",
              "      <th>1970-01-01</th>\n",
              "      <td>60.0</td>\n",
              "      <td>35.0</td>\n",
              "      <td>0.0</td>\n",
              "      <td>52.0</td>\n",
              "    </tr>\n",
              "    <tr>\n",
              "      <th>1970-01-02</th>\n",
              "      <td>52.0</td>\n",
              "      <td>39.0</td>\n",
              "      <td>0.0</td>\n",
              "      <td>52.0</td>\n",
              "    </tr>\n",
              "    <tr>\n",
              "      <th>1970-01-03</th>\n",
              "      <td>52.0</td>\n",
              "      <td>35.0</td>\n",
              "      <td>0.0</td>\n",
              "      <td>53.0</td>\n",
              "    </tr>\n",
              "    <tr>\n",
              "      <th>1970-01-04</th>\n",
              "      <td>53.0</td>\n",
              "      <td>36.0</td>\n",
              "      <td>0.0</td>\n",
              "      <td>52.0</td>\n",
              "    </tr>\n",
              "    <tr>\n",
              "      <th>1970-01-05</th>\n",
              "      <td>52.0</td>\n",
              "      <td>35.0</td>\n",
              "      <td>0.0</td>\n",
              "      <td>50.0</td>\n",
              "    </tr>\n",
              "    <tr>\n",
              "      <th>...</th>\n",
              "      <td>...</td>\n",
              "      <td>...</td>\n",
              "      <td>...</td>\n",
              "      <td>...</td>\n",
              "    </tr>\n",
              "    <tr>\n",
              "      <th>2022-11-22</th>\n",
              "      <td>62.0</td>\n",
              "      <td>35.0</td>\n",
              "      <td>0.0</td>\n",
              "      <td>67.0</td>\n",
              "    </tr>\n",
              "    <tr>\n",
              "      <th>2022-11-23</th>\n",
              "      <td>67.0</td>\n",
              "      <td>38.0</td>\n",
              "      <td>0.0</td>\n",
              "      <td>66.0</td>\n",
              "    </tr>\n",
              "    <tr>\n",
              "      <th>2022-11-24</th>\n",
              "      <td>66.0</td>\n",
              "      <td>41.0</td>\n",
              "      <td>0.0</td>\n",
              "      <td>70.0</td>\n",
              "    </tr>\n",
              "    <tr>\n",
              "      <th>2022-11-25</th>\n",
              "      <td>70.0</td>\n",
              "      <td>39.0</td>\n",
              "      <td>0.0</td>\n",
              "      <td>62.0</td>\n",
              "    </tr>\n",
              "    <tr>\n",
              "      <th>2022-11-26</th>\n",
              "      <td>62.0</td>\n",
              "      <td>41.0</td>\n",
              "      <td>0.0</td>\n",
              "      <td>64.0</td>\n",
              "    </tr>\n",
              "  </tbody>\n",
              "</table>\n",
              "<p>13509 rows × 4 columns</p>\n",
              "</div>"
            ],
            "text/plain": [
              "            tmax  tmin  rain  tmax_tomorrow\n",
              "1970-01-01  60.0  35.0   0.0           52.0\n",
              "1970-01-02  52.0  39.0   0.0           52.0\n",
              "1970-01-03  52.0  35.0   0.0           53.0\n",
              "1970-01-04  53.0  36.0   0.0           52.0\n",
              "1970-01-05  52.0  35.0   0.0           50.0\n",
              "...          ...   ...   ...            ...\n",
              "2022-11-22  62.0  35.0   0.0           67.0\n",
              "2022-11-23  67.0  38.0   0.0           66.0\n",
              "2022-11-24  66.0  41.0   0.0           70.0\n",
              "2022-11-25  70.0  39.0   0.0           62.0\n",
              "2022-11-26  62.0  41.0   0.0           64.0\n",
              "\n",
              "[13509 rows x 4 columns]"
            ]
          },
          "execution_count": 5,
          "metadata": {},
          "output_type": "execute_result"
        }
      ],
      "source": [
        "\n",
        "\n",
        "# Read in our data, and fill missing values\n",
        "data = pd.read_csv(\"./clean_weather.csv\", index_col=0)\n",
        "data = data.ffill()\n",
        "\n",
        "data"
      ]
    },
    {
      "cell_type": "markdown",
      "metadata": {},
      "source": [
        "The most common activation function for RNNs is the tanh function:\n",
        "\n",
        "$$\n",
        "\\text{tanh}(x) = \\frac{e^x - e^{-x}}{e^x + e^{-x}}\n",
        "$$\n",
        "\n",
        "The derivative of the tanh function is:\n",
        "\n",
        "$$\n",
        "\\text{tanh}'(x) = 1 - \\text{tanh}(x)^2\n",
        "$$\n",
        "\n",
        "Let's graph the tanh function and its derivative:"
      ]
    },
    {
      "cell_type": "code",
      "execution_count": 6,
      "metadata": {},
      "outputs": [
        {
          "data": {
            "image/png": "[encoded data removed]",
            "text/plain": [
              "<Figure size 640x480 with 1 Axes>"
            ]
          },
          "metadata": {},
          "output_type": "display_data"
        }
      ],
      "source": [
        "import matplotlib.pyplot as plt\n",
        "\n",
        "x = np.linspace(-10, 10, 100)\n",
        "y = np.tanh(x)\n",
        "dy = 1 - y**2\n",
        "\n",
        "plt.plot(x, y, label='tanh(x)')\n",
        "plt.plot(x, dy, label=\"tanh'(x)\")\n",
        "plt.legend()\n",
        "plt.show()  "
      ]
    },
    {
      "cell_type": "markdown",
      "metadata": {},
      "source": [
        "## Full Implementation\n"
      ]
    },
    {
      "cell_type": "code",
      "execution_count": 15,
      "metadata": {},
      "outputs": [
        {
          "name": "stderr",
          "output_type": "stream",
          "text": [
            "/Users/LSoica/work/AI/blog/.venv/lib/python3.12/site-packages/numpy/core/fromnumeric.py:59: FutureWarning: 'DataFrame.swapaxes' is deprecated and will be removed in a future version. Please use 'DataFrame.transpose' instead.\n",
            "  return bound(*args, **kwds)\n"
          ]
        }
      ],
      "source": [
        "from sklearn.preprocessing import StandardScaler\n",
        "import math\n",
        "\n",
        "# Define predictors and target\n",
        "PREDICTORS = [\"tmax\", \"tmin\", \"rain\"]\n",
        "TARGET = \"tmax_tomorrow\"\n",
        "\n",
        "# Scale our data to have mean 0\n",
        "scaler = StandardScaler()\n",
        "data[PREDICTORS] = scaler.fit_transform(data[PREDICTORS])\n",
        "\n",
        "# Split into train, valid, test sets: 70% train, 15% valid, 15% test\n",
        "np.random.seed(0)\n",
        "split_data = np.split(data, [int(.7*len(data)), int(.85*len(data))])\n",
        "(train_x, train_y), (valid_x, valid_y), (test_x, test_y) = [[d[PREDICTORS].to_numpy(), d[[TARGET]].to_numpy()] for d in split_data]"
      ]
    },
    {
      "cell_type": "code",
      "execution_count": 16,
      "metadata": {},
      "outputs": [],
      "source": [
        "def init_params(layer_conf):\n",
        "    layers = []\n",
        "    for i in range(1, len(layer_conf)):\n",
        "        np.random.seed(0)\n",
        "        k = 1/math.sqrt(layer_conf[i][\"hidden\"])\n",
        "        i_weight = np.random.rand(layer_conf[i-1][\"units\"], layer_conf[i][\"hidden\"]) * 2 * k - k\n",
        "\n",
        "        h_weight = np.random.rand(layer_conf[i][\"hidden\"], layer_conf[i][\"hidden\"]) * 2 * k - k\n",
        "        h_bias = np.random.rand(1, layer_conf[i][\"hidden\"]) * 2 * k - k\n",
        "\n",
        "        o_weight = np.random.rand(layer_conf[i][\"hidden\"], layer_conf[i][\"output\"]) * 2 * k - k\n",
        "        o_bias = np.random.rand(1, layer_conf[i][\"output\"]) * 2 * k - k\n",
        "\n",
        "        layers.append(\n",
        "            [i_weight, h_weight, h_bias, o_weight, o_bias]\n",
        "        )\n",
        "    return layers"
      ]
    },
    {
      "cell_type": "markdown",
      "metadata": {},
      "source": [
        "### forward pass"
      ]
    },
    {
      "cell_type": "code",
      "execution_count": 9,
      "metadata": {},
      "outputs": [],
      "source": [
        "# using mean squared error as loss function\n",
        "def mse(actual, predicted):\n",
        "    return np.mean((actual-predicted)**2)\n",
        "\n",
        "# mse gradient is the difference between actual and predicted. It the negative of the mse derivative\n",
        "def mse_grad(actual, predicted):\n",
        "    return (predicted - actual)"
      ]
    },
    {
      "cell_type": "code",
      "execution_count": 23,
      "metadata": {},
      "outputs": [],
      "source": [
        "# we run through the network a sequence of 20 inputs. start with hidden state and output state as 0\n",
        "def forward(x, layers):\n",
        "    hiddens = []\n",
        "    outputs = []\n",
        "    for i in range(len(layers)):\n",
        "        i_weight, h_weight, h_bias, o_weight, o_bias = layers[i]\n",
        "        hidden = np.zeros((x.shape[0], i_weight.shape[1]))\n",
        "        output = np.zeros((x.shape[0], o_weight.shape[1]))\n",
        "        for j in range(x.shape[0]):\n",
        "            input_x = x[j,:][np.newaxis,:] @ i_weight\n",
        "            hidden_x = input_x + hidden[max(j-1,0),:][np.newaxis,:] @ h_weight + h_bias\n",
        "            # Activation.  tanh avoids outputs getting larger and larger.\n",
        "            hidden_x = np.tanh(hidden_x)\n",
        "            # Store hidden for use in backprop\n",
        "            hidden[j,:] = hidden_x\n",
        "\n",
        "            # Output layer\n",
        "            output_x = hidden_x @ o_weight + o_bias\n",
        "            output[j,:] = output_x\n",
        "        # Store hidden and output for use in backprop\n",
        "        hiddens.append(hidden)\n",
        "        outputs.append(output)\n",
        "    return hiddens, outputs[-1]"
      ]
    },
    {
      "cell_type": "markdown",
      "metadata": {},
      "source": [
        "### Backward pass\n",
        "\n",
        "NN backpropagation function is:\n",
        "\n",
        "$$\n",
        "\\text{NN} = tanh((Input @ I_w + I_b) + (XH(t_n-1) @ H_w + H_b)) @ O_w + O_b\n",
        "$$\n",
        "\n"
      ]
    },
    {
      "cell_type": "markdown",
      "metadata": {},
      "source": [
        "\n",
        "![Backward pass](./rnn-backpropagation.png)"
      ]
    },
    {
      "cell_type": "code",
      "execution_count": 24,
      "metadata": {},
      "outputs": [],
      "source": [
        "def backward(layers, x, lr, grad, hiddens):\n",
        "    for i in range(len(layers)):\n",
        "        i_weight, h_weight, h_bias, o_weight, o_bias = layers[i]\n",
        "        hidden = hiddens[i]\n",
        "        next_h_grad = None\n",
        "        i_weight_grad, h_weight_grad, h_bias_grad, o_weight_grad, o_bias_grad = [0] * 5\n",
        "\n",
        "        for j in range(x.shape[0] - 1, -1, -1):\n",
        "            # Add newaxis in the first dimension\n",
        "            out_grad = grad[j,:][np.newaxis, :]\n",
        "\n",
        "            # Output updates\n",
        "            # np.newaxis creates a size 1 axis, in this case transposing matrix\n",
        "            o_weight_grad += hidden[j,:][:, np.newaxis] @ out_grad\n",
        "            o_bias_grad += out_grad\n",
        "\n",
        "            # Propagate gradient to hidden unit\n",
        "            h_grad = out_grad @ o_weight.T\n",
        "\n",
        "            if j < x.shape[0] - 1:\n",
        "                # Then we multiply the gradient by the hidden weights to pull gradient from next hidden state to current hidden state\n",
        "                hh_grad = next_h_grad @ h_weight.T\n",
        "                # Add the gradients together to combine output contribution and hidden contribution\n",
        "                h_grad += hh_grad\n",
        "\n",
        "            # Pull the gradient across the current hidden nonlinearity\n",
        "            # derivative of tanh is 1 - tanh(x) ** 2\n",
        "            # So we take the output of tanh (next hidden state), and plug in\n",
        "            tanh_deriv = 1 - hidden[j][np.newaxis,:] ** 2\n",
        "\n",
        "            # next_h_grad @ np.diag(tanh_deriv_next) multiplies each element of next_h_grad by the deriv\n",
        "            # Effect is to pull value across nonlinearity\n",
        "            h_grad = np.multiply(h_grad, tanh_deriv)\n",
        "\n",
        "            # Store to compute h grad for previous sequence position\n",
        "            next_h_grad = h_grad.copy()\n",
        "\n",
        "            # If we're not at the very beginning\n",
        "            if j > 0:\n",
        "                # Multiply input from previous layer by post-nonlinearity grad at current layer\n",
        "                h_weight_grad += hidden[j-1][:, np.newaxis] @ h_grad\n",
        "                h_bias_grad += h_grad\n",
        "\n",
        "            i_weight_grad += x[j,:][:,np.newaxis] @ h_grad\n",
        "\n",
        "        # Normalize lr by number of sequence elements\n",
        "        lr = lr / x.shape[0]\n",
        "        i_weight -= i_weight_grad * lr\n",
        "        h_weight -= h_weight_grad * lr\n",
        "        h_bias -= h_bias_grad * lr\n",
        "        o_weight -= o_weight_grad * lr\n",
        "        o_bias -= o_bias_grad * lr\n",
        "        layers[i] = [i_weight, h_weight, h_bias, o_weight, o_bias]\n",
        "    return layers"
      ]
    },
    {
      "cell_type": "markdown",
      "metadata": {},
      "source": [
        "### Training"
      ]
    },
    {
      "cell_type": "code",
      "execution_count": 52,
      "metadata": {},
      "outputs": [
        {
          "name": "stdout",
          "output_type": "stream",
          "text": [
            "Epoch: 0 train loss 519.6897645583397 valid loss 72.75332393001642\n",
            "Prediction: 66.62851833139118 vs actual: 64\n",
            "Epoch: 2 train loss 36.42163982733737 valid loss 34.5787728792624\n",
            "Prediction: 77.24747225976233 vs actual: 64\n",
            "Epoch: 4 train loss 27.382911331350147 valid loss 29.880311580291163\n",
            "Prediction: 83.61372429665458 vs actual: 64\n",
            "Epoch: 6 train loss 23.86992827107105 valid loss 29.5155110803209\n",
            "Prediction: 87.15185060463273 vs actual: 64\n",
            "Epoch: 8 train loss 22.097282189052727 valid loss 28.867248732991\n",
            "Prediction: 89.56176331634961 vs actual: 64\n",
            "Epoch: 10 train loss 21.19754778288571 valid loss 28.319600958096984\n",
            "Prediction: 90.9757596641493 vs actual: 64\n",
            "Epoch: 12 train loss 20.80703158428252 valid loss 28.007075069070954\n",
            "Prediction: 91.67585229723386 vs actual: 64\n",
            "Epoch: 14 train loss 20.624720897995743 valid loss 27.795451578250965\n",
            "Prediction: 91.98200920596689 vs actual: 64\n",
            "Epoch: 16 train loss 20.534074732042967 valid loss 27.6354128815431\n",
            "Prediction: 91.98152140187526 vs actual: 64\n",
            "Epoch: 18 train loss 20.48957190776276 valid loss 27.51225526508315\n",
            "Prediction: 88.98640924101369 vs actual: 64\n",
            "Epoch: 20 train loss 20.470074809311015 valid loss 27.428434472209506\n",
            "Prediction: 62.98421948718461 vs actual: 64\n"
          ]
        }
      ],
      "source": [
        "epochs = 21\n",
        "lr = 0.0001\n",
        "sequence_len = 13\n",
        "\n",
        "layer_conf = [\n",
        "    {\"type\":\"input\", \"units\": 3},\n",
        "    {\"type\": \"rnn\", \"hidden\": 5, \"output\": 1}\n",
        "]\n",
        "layers = init_params(layer_conf)\n",
        "\n",
        "for epoch in range(epochs):\n",
        "    epoch_loss = 0\n",
        "    for j in range(train_x.shape[0] - sequence_len):\n",
        "        seq_x = train_x[j:(j+sequence_len),]\n",
        "        seq_y = train_y[j:(j+sequence_len),]\n",
        "        hiddens, outputs = forward(seq_x, layers)\n",
        "        grad = mse_grad(seq_y, outputs)\n",
        "        params = backward(layers, seq_x, lr, grad, hiddens)\n",
        "        epoch_loss += mse(seq_y, outputs)\n",
        "\n",
        "    if epoch % 2 == 0:\n",
        "        valid_loss = 0\n",
        "        for j in range(valid_x.shape[0] - sequence_len):\n",
        "            seq_x = valid_x[j:(j+sequence_len),]\n",
        "            seq_y = valid_y[j:(j+sequence_len),]\n",
        "            _, outputs = forward(seq_x, layers)\n",
        "            valid_loss += mse(seq_y, outputs)\n",
        "\n",
        "        print(f\"Epoch: {epoch} train loss {epoch_loss / len(train_x)} valid loss {valid_loss / len(valid_x)}\")\n",
        "        history = np.array([[60.0, 38.0, 0.0], [65.0, 39.0, 0.0], [66.0, 36.0, 0.0], [64.0, 38.0, 0.0], [63.0, 38.0, 0.0], [62.0, 42.0, 0.0], [61.0, 37.0, 0.0], [60.0, 36.0, 0.0], [62.0, 35.0, 0.0], [67.0, 38.0, 0.0], [66.0, 41.0, 0.0], [70.0, 39.0, 0.0], [62.0, 41.0, 0.0]])\n",
        "\n",
        "        _, predictions = forward(history, layers)\n",
        "        print(f\"Prediction: {predictions[-1][0]} vs actual: 64\")\n",
        "\n"
      ]
    },
    {
      "cell_type": "code",
      "execution_count": 53,
      "metadata": {},
      "outputs": [
        {
          "name": "stdout",
          "output_type": "stream",
          "text": [
            "[[40.10723141]\n",
            " [41.53303368]\n",
            " [42.36439085]\n",
            " [42.42101967]\n",
            " [43.48365448]\n",
            " [44.49978194]\n",
            " [48.4633702 ]\n",
            " [53.26467986]\n",
            " [58.1371818 ]\n",
            " [58.88674495]\n",
            " [59.46713998]\n",
            " [59.24355687]\n",
            " [62.98421949]]\n",
            "62.98421948718461\n"
          ]
        }
      ],
      "source": [
        "# 2022-11-14,60.0,38.0,0.0,65.0\n",
        "# 2022-11-15,65.0,39.0,0.0,66.0\n",
        "# 2022-11-16,66.0,36.0,0.0,64.0\n",
        "# 2022-11-17,64.0,38.0,0.0,63.0\n",
        "# 2022-11-18,63.0,38.0,0.0,62.0\n",
        "# 2022-11-19,62.0,42.0,0.0,61.0\n",
        "# 2022-11-20,61.0,37.0,0.0,60.0\n",
        "# 2022-11-21,60.0,36.0,0.0,62.0\n",
        "# 2022-11-22,62.0,35.0,0.0,67.0\n",
        "# 2022-11-23,67.0,38.0,0.0,66.0\n",
        "# 2022-11-24,66.0,41.0,0.0,70.0\n",
        "# 2022-11-25,70.0,39.0,0.0,62.0\n",
        "# 2022-11-26,62.0,41.0,0.0,64.0\n",
        "\n",
        "history = np.array([[60.0, 38.0, 0.0], [65.0, 39.0, 0.0], [66.0, 36.0, 0.0], [64.0, 38.0, 0.0], [63.0, 38.0, 0.0], [62.0, 42.0, 0.0], [61.0, 37.0, 0.0], [60.0, 36.0, 0.0], [62.0, 35.0, 0.0], [67.0, 38.0, 0.0], [66.0, 41.0, 0.0], [70.0, 39.0, 0.0], [62.0, 41.0, 0.0]])\n",
        "\n",
        "_, predictions = forward(history, layers)\n",
        "# print all predictions\n",
        "print(predictions)\n",
        "# print last prediction\n",
        "print(predictions[-1][0])\n"
      ]
    },
    {
      "cell_type": "markdown",
      "metadata": {},
      "source": [
        "## References\n",
        "- https://github.com/VikParuchuri/zero_to_gpt/blob/master/explanations/rnn.ipynb\n",
        "- https://www.youtube.com/watch?v=4wuIOcD1LLI"
      ]
    },
    {
      "cell_type": "markdown",
      "metadata": {},
      "source": []
    }
  ],
  "metadata": {
    "colab": {
      "include_colab_link": true,
      "name": "5-probability.ipynb",
      "provenance": []
    },
    "kernelspec": {
      "display_name": ".venv",
      "language": "python",
      "name": "python3"
    },
    "language_info": {
      "codemirror_mode": {
        "name": "ipython",
        "version": 3
      },
      "file_extension": ".py",
      "mimetype": "text/x-python",
      "name": "python",
      "nbconvert_exporter": "python",
      "pygments_lexer": "ipython3",
      "version": "3.12.6"
    }
  },
  "nbformat": 4,
  "nbformat_minor": 0
}
