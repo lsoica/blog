{
  "cells": [
    {
      "cell_type": "markdown",
      "metadata": {
        "colab_type": "text",
        "id": "view-in-github"
      },
      "source": [
        "<a href=\"https://colab.research.google.com/github/lsoica/blog/blob/main/assets/mlp.ipynb\" target=\"_parent\"><img src=\"https://colab.research.google.com/assets/colab-badge.svg\" alt=\"Open In Colab\"/></a>"
      ]
    },
    {
      "cell_type": "markdown",
      "metadata": {
        "id": "aTOLgsbN69-P"
      },
      "source": [
        "# Multi-layer perceptron\n",
        "\n",
        "## Terms\n",
        "\n",
        "- Linear layer: applies a linear transformation to the input, i.e., $y = Wx + b$ where $W \\in \\mathbb{R}^{n \\times m}$ is the weight matrix and $b \\in \\mathbb{R}^m$ is the bias vector. On the columns of $W$, each column represents a neuron. The number of features in the input has to match the number of weights of each neuron. The bias vector is added to the output of each neuron. In the result matrix on the rows we have the transformed input data by each neuron (so if the input data has 3 features, after the transformation it can end up having any number of features, equal to the number of neurons). Each cell is a dot product between the input vector and the weight of each neuron, so it captures the similarity between the input and the neuron. Each neuron is responsible for 1 output feature.\n",
        "- Activation function: If the data is not linearily separable (through a line in 2D or a plane in 3D and so on) then it cannot be modeled by the MLP through just linear layers, that are just linear transformations. Just chaining multiple linear transformations is equivalent to a single linear transformation. We need to add nonlinearities between the layers, that are responsible for capturing the nonlinearity of the data. The most common activation functions are: ReLU (Rectified Linear Unit): $f(x) = max(0, x)$\n",
        "- Data fitting: we have a series of points and we want to fit a line that passes through them\n",
        "\n",
        "## Universal approximation theorem\n",
        "\n",
        "Given a family of neural networks, for each function $f$ from a certain function space, there exists a sequence of neural networks $\\phi _{1}$, $\\phi _{2}$, ... from the family, such that $\\phi _{n}\\to f$ according to some criterion. That is, the family of neural networks is dense in the function space.\n",
        "\n",
        "It states that feedforward networks with non-polynomial (non linear) activation functions are dense in the space of continuous functions between two Euclidean spaces, with respect to the compact convergence topology. It does not guarantee any method, such as backpropagation, might actually find such a sequence. Any method for searching the space of neural networks, including backpropagation, might find a converging sequence, or not (i.e. the backpropagation might get stuck in a local optimum).\n",
        "\n",
        "It is the theoretical foundation for MLPs."
      ]
    },
    {
      "cell_type": "markdown",
      "metadata": {},
      "source": [
        "## Alternaltives\n",
        "\n",
        "### KAN - Kolmogorov-Arnold Networks\n",
        "\n",
        "- Bezier curves: Bézier curves are parametric curves (with the parameter t varying from 0 to 1) that are defined by a set of control points. These points’ positions in relation to one another define the shape of the curve.\n",
        "- B-Splines: B-splines are piecewise polynomials, which means that they are made up of smaller pieces (called knots) that are joined together by continuity conditions. The most common type of B-spline is a cubic B-spline. A cubic B-spline is a curve that has 4 control points and 3 knots.\n",
        "\n",
        "Based on the Kolmogorov-Arnold representation theorem, instead of learning weights like in the case of MLPs, they learn a function that maps a vector to another vector. \n",
        "The functions are learned in terms of control points. The control points are then used as the basis for the B-spline representation.\n",
        "\n",
        "[Kolmogorov-Arnold Networks Paper](https://arxiv.org/abs/2404.19756)"
      ]
    },
    {
      "cell_type": "markdown",
      "metadata": {},
      "source": [
        "## Let's train a multi-layer perceptron model to classify MNIST digits using PyTorch\n",
        "\n",
        "### Install missing packages"
      ]
    },
    {
      "cell_type": "code",
      "execution_count": null,
      "metadata": {},
      "outputs": [],
      "source": [
        "!pip install torchvision\n"
      ]
    },
    {
      "cell_type": "markdown",
      "metadata": {},
      "source": [
        "### Import libraries"
      ]
    },
    {
      "cell_type": "code",
      "execution_count": 4,
      "metadata": {},
      "outputs": [
        {
          "name": "stdout",
          "output_type": "stream",
          "text": [
            "Using PyTorch version: 2.4.1\n"
          ]
        }
      ],
      "source": [
        "%matplotlib inline\n",
        "\n",
        "import torch\n",
        "import torch.nn as nn\n",
        "from torch.utils.data import DataLoader\n",
        "from torchvision import datasets\n",
        "from torchvision.transforms import ToTensor\n",
        "\n",
        "import numpy as np\n",
        "import matplotlib.pyplot as plt\n",
        "import os\n",
        "\n",
        "print('Using PyTorch version:', torch.__version__)\n",
        "if torch.backends.mps.is_available():\n",
        "    device = torch.device(\"mps\")\n",
        "else:\n",
        "    device = torch.device(\"cpu\")"
      ]
    },
    {
      "cell_type": "markdown",
      "metadata": {},
      "source": [
        "### Load data\n",
        "\n",
        "Dataset represents the actual data items, such as images or pieces of text, and their labels.\n",
        "DataLoader is used for processing the dataset in batches in an efficient manner."
      ]
    },
    {
      "cell_type": "code",
      "execution_count": null,
      "metadata": {},
      "outputs": [],
      "source": [
        "batch_size = 32\n",
        "\n",
        "data_dir = './data'\n",
        "print('data_dir =', data_dir)\n",
        "\n",
        "train_dataset = datasets.MNIST(data_dir, train=True, download=True, transform=ToTensor())\n",
        "test_dataset = datasets.MNIST(data_dir, train=False, transform=ToTensor())\n",
        "\n",
        "train_loader = DataLoader(dataset=train_dataset, batch_size=batch_size, shuffle=True)\n",
        "test_loader = DataLoader(dataset=test_dataset, batch_size=batch_size, shuffle=False)"
      ]
    },
    {
      "cell_type": "code",
      "execution_count": 6,
      "metadata": {},
      "outputs": [
        {
          "name": "stdout",
          "output_type": "stream",
          "text": [
            "data: torch.Size([32, 1, 28, 28]) type: torch.FloatTensor\n",
            "target: torch.Size([32]) type: torch.LongTensor\n"
          ]
        }
      ],
      "source": [
        "for (data, target) in train_loader:\n",
        "    print('data:', data.size(), 'type:', data.type())\n",
        "    print('target:', target.size(), 'type:', target.type())\n",
        "    break"
      ]
    },
    {
      "cell_type": "markdown",
      "metadata": {},
      "source": [
        "Here are the first 10 training digits:"
      ]
    },
    {
      "cell_type": "code",
      "execution_count": 7,
      "metadata": {},
      "outputs": [
        {
          "data": {
            "image/png": "[encoded data removed]",
            "text/plain": [
              "<Figure size 1000x100 with 10 Axes>"
            ]
          },
          "metadata": {},
          "output_type": "display_data"
        }
      ],
      "source": [
        "pltsize=1\n",
        "plt.figure(figsize=(10*pltsize, pltsize))\n",
        "\n",
        "for i in range(10):\n",
        "    plt.subplot(1,10,i+1)\n",
        "    plt.axis('off')\n",
        "    plt.imshow(data[i,:,:,:].numpy().reshape(28,28), cmap=\"gray_r\")\n",
        "    plt.title('Class: '+str(target[i].item()))"
      ]
    },
    {
      "cell_type": "markdown",
      "metadata": {},
      "source": [
        "### Multi-layer perceptron (MLP) network\n",
        "\n",
        "- \"Flatten\" the 2D image into a vector with nn.Flatten\n",
        "- Create a fully-connected layer with 20 neurons\n",
        "- Add a ReLU non-linear activation\n",
        "- The output of the last layer needs to be a 10-dimensional vector to match the ground truth of ten classes (the ten digits)."
      ]
    },
    {
      "cell_type": "code",
      "execution_count": 8,
      "metadata": {},
      "outputs": [
        {
          "name": "stdout",
          "output_type": "stream",
          "text": [
            "SimpleMLP(\n",
            "  (layers): Sequential(\n",
            "    (0): Flatten(start_dim=1, end_dim=-1)\n",
            "    (1): Linear(in_features=784, out_features=20, bias=True)\n",
            "    (2): ReLU()\n",
            "    (3): Linear(in_features=20, out_features=10, bias=True)\n",
            "  )\n",
            ")\n"
          ]
        }
      ],
      "source": [
        "class SimpleMLP(nn.Module):\n",
        "    def __init__(self):\n",
        "        super().__init__()\n",
        "        self.layers = nn.Sequential(\n",
        "            nn.Flatten(),\n",
        "            nn.Linear(28*28, 20),\n",
        "            nn.ReLU(),\n",
        "            nn.Linear(20, 10)\n",
        "        )\n",
        "\n",
        "    def forward(self, x):\n",
        "        return self.layers(x)\n",
        "\n",
        "model = SimpleMLP().to(device)\n",
        "print(model)"
      ]
    },
    {
      "cell_type": "markdown",
      "metadata": {},
      "source": [
        "#### Define a loss function and an optimizer\n",
        "\n",
        "For a classification task we typically use the cross entropy loss."
      ]
    },
    {
      "cell_type": "code",
      "execution_count": 9,
      "metadata": {},
      "outputs": [],
      "source": [
        "criterion = nn.CrossEntropyLoss()\n",
        "optimizer = torch.optim.Adam(model.parameters())"
      ]
    },
    {
      "cell_type": "markdown",
      "metadata": {},
      "source": [
        "a helper function to calculate the number of correctly classified digits."
      ]
    },
    {
      "cell_type": "code",
      "execution_count": 10,
      "metadata": {},
      "outputs": [],
      "source": [
        "def correct(output, target):\n",
        "    predicted_digits = output.argmax(1)                            # pick digit with largest network output\n",
        "    correct_ones = (predicted_digits == target).type(torch.float)  # 1.0 for correct, 0.0 for incorrect\n",
        "    return correct_ones.sum().item()                               # count number of correct ones"
      ]
    },
    {
      "cell_type": "markdown",
      "metadata": {},
      "source": [
        "The training function for a single epoch."
      ]
    },
    {
      "cell_type": "code",
      "execution_count": 11,
      "metadata": {},
      "outputs": [],
      "source": [
        "def train(data_loader, model, criterion, optimizer):\n",
        "    model.train()\n",
        "\n",
        "    num_batches = len(data_loader)\n",
        "    num_items = len(data_loader.dataset)\n",
        "\n",
        "    total_loss = 0\n",
        "    total_correct = 0\n",
        "    for data, target in data_loader:\n",
        "        # Copy data and targets to GPU\n",
        "        data = data.to(device)\n",
        "        target = target.to(device)\n",
        "        \n",
        "        # Do a forward pass\n",
        "        output = model(data)\n",
        "        \n",
        "        # Calculate the loss\n",
        "        loss = criterion(output, target)\n",
        "        total_loss += loss\n",
        "\n",
        "        # Count number of correct digits\n",
        "        total_correct += correct(output, target)\n",
        "        \n",
        "        # Backpropagation\n",
        "        loss.backward()\n",
        "        optimizer.step()\n",
        "        optimizer.zero_grad()\n",
        "\n",
        "    train_loss = total_loss/num_batches\n",
        "    accuracy = total_correct/num_items\n",
        "    print(f\"Average loss: {train_loss:7f}, accuracy: {accuracy:.2%}\")"
      ]
    },
    {
      "cell_type": "markdown",
      "metadata": {},
      "source": [
        "Train for 10 epochs:"
      ]
    },
    {
      "cell_type": "code",
      "execution_count": 12,
      "metadata": {},
      "outputs": [
        {
          "name": "stdout",
          "output_type": "stream",
          "text": [
            "Training epoch: 1\n",
            "Average loss: 0.429834, accuracy: 88.44%\n",
            "Training epoch: 2\n",
            "Average loss: 0.238427, accuracy: 93.24%\n",
            "Training epoch: 3\n",
            "Average loss: 0.200138, accuracy: 94.30%\n",
            "Training epoch: 4\n",
            "Average loss: 0.178499, accuracy: 94.87%\n",
            "Training epoch: 5\n",
            "Average loss: 0.163786, accuracy: 95.19%\n",
            "Training epoch: 6\n",
            "Average loss: 0.153337, accuracy: 95.54%\n",
            "Training epoch: 7\n",
            "Average loss: 0.144214, accuracy: 95.81%\n",
            "Training epoch: 8\n",
            "Average loss: 0.136840, accuracy: 95.95%\n",
            "Training epoch: 9\n",
            "Average loss: 0.130928, accuracy: 96.10%\n",
            "Training epoch: 10\n",
            "Average loss: 0.125242, accuracy: 96.33%\n",
            "CPU times: user 43.3 s, sys: 5.68 s, total: 49 s\n",
            "Wall time: 54.8 s\n"
          ]
        }
      ],
      "source": [
        "%%time\n",
        "\n",
        "epochs = 10\n",
        "for epoch in range(epochs):\n",
        "    print(f\"Training epoch: {epoch+1}\")\n",
        "    train(train_loader, model, criterion, optimizer)"
      ]
    },
    {
      "cell_type": "markdown",
      "metadata": {},
      "source": [
        "### Let's see the model accuracy for the test data"
      ]
    },
    {
      "cell_type": "code",
      "execution_count": 13,
      "metadata": {},
      "outputs": [],
      "source": [
        "def test(test_loader, model, criterion):\n",
        "    model.eval()\n",
        "\n",
        "    num_batches = len(test_loader)\n",
        "    num_items = len(test_loader.dataset)\n",
        "\n",
        "    test_loss = 0\n",
        "    total_correct = 0\n",
        "\n",
        "    with torch.no_grad():\n",
        "        for data, target in test_loader:\n",
        "            # Copy data and targets to GPU\n",
        "            data = data.to(device)\n",
        "            target = target.to(device)\n",
        "        \n",
        "            # Do a forward pass\n",
        "            output = model(data)\n",
        "        \n",
        "            # Calculate the loss\n",
        "            loss = criterion(output, target)\n",
        "            test_loss += loss.item()\n",
        "        \n",
        "            # Count number of correct digits\n",
        "            total_correct += correct(output, target)\n",
        "\n",
        "    test_loss = test_loss/num_batches\n",
        "    accuracy = total_correct/num_items\n",
        "\n",
        "    print(f\"Testset accuracy: {100*accuracy:>0.1f}%, average loss: {test_loss:>7f}\")"
      ]
    },
    {
      "cell_type": "code",
      "execution_count": 14,
      "metadata": {},
      "outputs": [
        {
          "name": "stdout",
          "output_type": "stream",
          "text": [
            "Testset accuracy: 95.8%, average loss: 0.148362\n"
          ]
        }
      ],
      "source": [
        "test(test_loader, model, criterion)"
      ]
    },
    {
      "cell_type": "markdown",
      "metadata": {},
      "source": [
        "### Add one more hidden linear layer\n",
        "\n",
        "Dropout: randomly set some neurons to zero in the forward pass in order to:\n",
        "- prevent overfitting (we know the model is not using all its neurons)\n",
        "- force the network to have a redundant representation (by killing part of the neurons, we know the network has to build redundacy for them)\n",
        "The default probability for dropout is 0.5, half of the neurons."
      ]
    },
    {
      "cell_type": "code",
      "execution_count": 26,
      "metadata": {},
      "outputs": [],
      "source": [
        "class TwoLayerMLP(nn.Module):\n",
        "    def __init__(self):\n",
        "        super().__init__()\n",
        "\n",
        "        self.layers = nn.Sequential(\n",
        "            nn.Flatten(),\n",
        "            nn.Linear(28*28, 50),\n",
        "            nn.ReLU(),\n",
        "            nn.Dropout(p=0.2),\n",
        "            nn.Linear(50, 50),\n",
        "            nn.ReLU(),\n",
        "            nn.Dropout(p=0.2),\n",
        "            nn.Linear(50, 10)\n",
        "        )        \n",
        "\n",
        "    def forward(self, x):\n",
        "        return self.layers(x)"
      ]
    },
    {
      "cell_type": "code",
      "execution_count": 27,
      "metadata": {},
      "outputs": [
        {
          "name": "stdout",
          "output_type": "stream",
          "text": [
            "TwoLayerMLP(\n",
            "  (layers): Sequential(\n",
            "    (0): Flatten(start_dim=1, end_dim=-1)\n",
            "    (1): Linear(in_features=784, out_features=50, bias=True)\n",
            "    (2): ReLU()\n",
            "    (3): Dropout(p=0.2, inplace=False)\n",
            "    (4): Linear(in_features=50, out_features=50, bias=True)\n",
            "    (5): ReLU()\n",
            "    (6): Dropout(p=0.2, inplace=False)\n",
            "    (7): Linear(in_features=50, out_features=10, bias=True)\n",
            "  )\n",
            ")\n"
          ]
        }
      ],
      "source": [
        "ex1_model = TwoLayerMLP()\n",
        "print(ex1_model)\n",
        "ex1_model = ex1_model.to(device)\n"
      ]
    },
    {
      "cell_type": "markdown",
      "metadata": {},
      "source": [
        "Same steps: a loss function, an optimizer and the training loop:"
      ]
    },
    {
      "cell_type": "code",
      "execution_count": 28,
      "metadata": {},
      "outputs": [],
      "source": [
        "ex1_criterion = nn.CrossEntropyLoss()\n",
        "ex1_optimizer = torch.optim.Adam(ex1_model.parameters())"
      ]
    },
    {
      "cell_type": "code",
      "execution_count": 29,
      "metadata": {},
      "outputs": [
        {
          "name": "stdout",
          "output_type": "stream",
          "text": [
            "Epoch: 1 ...\n",
            "Average loss: 0.470256, accuracy: 85.86%\n",
            "Epoch: 2 ...\n",
            "Average loss: 0.240145, accuracy: 92.88%\n",
            "Epoch: 3 ...\n",
            "Average loss: 0.199531, accuracy: 94.03%\n",
            "Epoch: 4 ...\n",
            "Average loss: 0.173506, accuracy: 94.78%\n",
            "Epoch: 5 ...\n",
            "Average loss: 0.159892, accuracy: 95.23%\n",
            "Epoch: 6 ...\n",
            "Average loss: 0.148368, accuracy: 95.55%\n",
            "Epoch: 7 ...\n",
            "Average loss: 0.140041, accuracy: 95.77%\n",
            "Epoch: 8 ...\n",
            "Average loss: 0.133137, accuracy: 95.90%\n",
            "Epoch: 9 ...\n",
            "Average loss: 0.127789, accuracy: 96.07%\n",
            "Epoch: 10 ...\n",
            "Average loss: 0.123514, accuracy: 96.25%\n",
            "CPU times: user 57.6 s, sys: 6.57 s, total: 1min 4s\n",
            "Wall time: 1min 11s\n"
          ]
        }
      ],
      "source": [
        "%%time\n",
        "\n",
        "epochs = 10\n",
        "for epoch in range(epochs):\n",
        "    print(f\"Epoch: {epoch+1} ...\")\n",
        "    train(train_loader, ex1_model, ex1_criterion, ex1_optimizer)"
      ]
    },
    {
      "cell_type": "code",
      "execution_count": 30,
      "metadata": {},
      "outputs": [
        {
          "name": "stdout",
          "output_type": "stream",
          "text": [
            "Testset accuracy: 97.1%, average loss: 0.094662\n"
          ]
        }
      ],
      "source": [
        "test(test_loader, ex1_model, ex1_criterion)\n"
      ]
    },
    {
      "cell_type": "markdown",
      "metadata": {},
      "source": [
        "So, although the numbers look a bit worse on the training split, the result is acually better on the test split."
      ]
    },
    {
      "cell_type": "markdown",
      "metadata": {},
      "source": []
    }
  ],
  "metadata": {
    "colab": {
      "include_colab_link": true,
      "name": "5-probability.ipynb",
      "provenance": []
    },
    "kernelspec": {
      "display_name": ".venv",
      "language": "python",
      "name": "python3"
    },
    "language_info": {
      "codemirror_mode": {
        "name": "ipython",
        "version": 3
      },
      "file_extension": ".py",
      "mimetype": "text/x-python",
      "name": "python",
      "nbconvert_exporter": "python",
      "pygments_lexer": "ipython3",
      "version": "3.12.6"
    }
  },
  "nbformat": 4,
  "nbformat_minor": 0
}
