{
 "cells": [
  {
   "cell_type": "markdown",
   "metadata": {},
   "source": [
    "<a href=\"https://colab.research.google.com/github/lsoica/blog/blob/main/assets/quantization.ipynb\" target=\"_parent\"><img src=\"https://colab.research.google.com/assets/colab-badge.svg\" alt=\"Open In Colab\"/></a>"
   ]
  },
  {
   "cell_type": "markdown",
   "metadata": {},
   "source": [
    "# Quantization\n",
    "\n",
    "Aims to reduce the precision of the model weights and activations. Usually by changing the data type from floating point to integer.\n",
    "\n",
    "![Architecture](images/quantization-architecture.png)\n",
    "\n",
    "Benefits:\n",
    "- Reduced memory usage\n",
    "- Faster inference\n",
    "- Reduced model size\n",
    "\n",
    "Types:\n",
    " - Symmetric: same quantization for positive and negative values\n",
    " - Asymmetric: different quantization for positive and negative values\n",
    "![Symmetric vs Asymmetric](images/quatization-symmetric-asymmetric.png)\n",
    "\n",
    "## Symmetric Quantization\n",
    "\n",
    "![Symmetric](images/symmetric-quantization.png)\n",
    "\n",
    "## Asymmetric Quantization\n",
    "\n",
    "![Asymmetric](images/asymmetric-quantization.png)\n",
    "\n",
    "## GPU acceleration\n",
    "\n",
    "When computing $X*W+B$ each row of $X$ is multiplied by each column of $W$ and then added to $B$. The GPU can perform this computation in parallel for each row of $X$ and each column of $W$ by using Multiply-Accumulate (MAC) operations.\n",
    "\n",
    "## How to choose the range of the quantization?\n",
    "\n",
    " - Use the minimum and maximum value of the weights and activations\n",
    " - Use the mean-square error (MSE) of the weights and activations\n",
    " - Cross-entropy\n",
    "\n",
    "## Code\n",
    "\n",
    "### Create a simple tensor with random items\n"
   ]
  },
  {
   "cell_type": "code",
   "execution_count": 1,
   "metadata": {},
   "outputs": [
    {
     "name": "stdout",
     "output_type": "stream",
     "text": [
      "[135.27 -40.19   0.    71.58   0.15  89.11 -39.19 -12.81 -14.72 128.6\n",
      " -28.3  113.96 134.27 -25.94  36.49  53.55  24.1  133.    32.29  97.02]\n"
     ]
    }
   ],
   "source": [
    "import numpy as np\n",
    "\n",
    "# Suppress scientific notation\n",
    "np.set_printoptions(suppress=True)\n",
    "\n",
    "# Generate randomly distributed parameters\n",
    "params = np.random.uniform(low=-50, high=150, size=20)\n",
    "\n",
    "# Make sure important values are at the beginning for better debugging\n",
    "params[0] = params.max() + 1\n",
    "params[1] = params.min() - 1\n",
    "params[2] = 0\n",
    "\n",
    "# Round each number to the second decimal place\n",
    "params = np.round(params, 2)\n",
    "\n",
    "# Print the parameters\n",
    "print(params)"
   ]
  },
  {
   "cell_type": "markdown",
   "metadata": {},
   "source": [
    "### Define the quantization methods and quantize\n"
   ]
  },
  {
   "cell_type": "code",
   "execution_count": 2,
   "metadata": {},
   "outputs": [
    {
     "name": "stdout",
     "output_type": "stream",
     "text": [
      "Original:\n",
      "[135.27 -40.19   0.    71.58   0.15  89.11 -39.19 -12.81 -14.72 128.6\n",
      " -28.3  113.96 134.27 -25.94  36.49  53.55  24.1  133.    32.29  97.02]\n",
      "\n",
      "Asymmetric scale: 0.6880784313725491, zero: 58.0\n",
      "[255   0  58 162  58 188   1  39  37 245  17 224 253  20 111 136  93 251\n",
      " 105 199]\n",
      "\n",
      "Symmetric scale: 1.0651181102362206\n",
      "[127 -38   0  67   0  84 -37 -12 -14 121 -27 107 126 -24  34  50  23 125\n",
      "  30  91]\n"
     ]
    }
   ],
   "source": [
    "def clamp(params_q: np.array, lower_bound: int, upper_bound: int) -> np.array:\n",
    "    params_q[params_q < lower_bound] = lower_bound\n",
    "    params_q[params_q > upper_bound] = upper_bound\n",
    "    return params_q\n",
    "\n",
    "def asymmetric_quantization(params: np.array, bits: int) -> tuple[np.array, float, int]:\n",
    "    # Calculate the scale and zero point\n",
    "    alpha = np.max(params)\n",
    "    beta = np.min(params)\n",
    "    scale = (alpha - beta) / (2**bits-1)\n",
    "    zero = -1*np.round(beta / scale)\n",
    "    lower_bound, upper_bound = 0, 2**bits-1\n",
    "    # Quantize the parameters\n",
    "    quantized = clamp(np.round(params / scale + zero), lower_bound, upper_bound).astype(np.int32)\n",
    "    return quantized, scale, zero\n",
    "\n",
    "def asymmetric_dequantize(params_q: np.array, scale: float, zero: int) -> np.array:\n",
    "    return (params_q - zero) * scale\n",
    "\n",
    "def symmetric_dequantize(params_q: np.array, scale: float) -> np.array:\n",
    "    return params_q * scale\n",
    "\n",
    "def symmetric_quantization(params: np.array, bits: int) -> tuple[np.array, float]:\n",
    "    # Calculate the scale\n",
    "    alpha = np.max(np.abs(params))\n",
    "    scale = alpha / (2**(bits-1)-1)\n",
    "    lower_bound = -2**(bits-1)\n",
    "    upper_bound = 2**(bits-1)-1\n",
    "    # Quantize the parameters\n",
    "    quantized = clamp(np.round(params / scale), lower_bound, upper_bound).astype(np.int32)\n",
    "    return quantized, scale\n",
    "\n",
    "def quantization_error(params: np.array, params_q: np.array):\n",
    "    # calculate the MSE\n",
    "    return np.mean((params - params_q)**2)\n",
    "\n",
    "(asymmetric_q, asymmetric_scale, asymmetric_zero) = asymmetric_quantization(params, 8)\n",
    "(symmetric_q, symmetric_scale) = symmetric_quantization(params, 8)\n",
    "\n",
    "print(f'Original:')\n",
    "print(np.round(params, 2))\n",
    "print('')\n",
    "print(f'Asymmetric scale: {asymmetric_scale}, zero: {asymmetric_zero}')\n",
    "print(asymmetric_q)\n",
    "print('')\n",
    "print(f'Symmetric scale: {symmetric_scale}')\n",
    "print(symmetric_q)"
   ]
  },
  {
   "cell_type": "markdown",
   "metadata": {},
   "source": [
    "### Dequantize the parameters back to 32 bits\n"
   ]
  },
  {
   "cell_type": "code",
   "execution_count": 3,
   "metadata": {},
   "outputs": [
    {
     "name": "stdout",
     "output_type": "stream",
     "text": [
      "Original:\n",
      "[135.27 -40.19   0.    71.58   0.15  89.11 -39.19 -12.81 -14.72 128.6\n",
      " -28.3  113.96 134.27 -25.94  36.49  53.55  24.1  133.    32.29  97.02]\n",
      "\n",
      "Dequantize Asymmetric:\n",
      "[135.55 -39.91   0.    71.56   0.    89.45 -39.22 -13.07 -14.45 128.67\n",
      " -28.21 114.22 134.18 -26.15  36.47  53.67  24.08 132.8   32.34  97.02]\n",
      "\n",
      "Dequantize Symmetric:\n",
      "[135.27 -40.47   0.    71.36   0.    89.47 -39.41 -12.78 -14.91 128.88\n",
      " -28.76 113.97 134.2  -25.56  36.21  53.26  24.5  133.14  31.95  96.93]\n"
     ]
    }
   ],
   "source": [
    "params_deq_asymmetric = asymmetric_dequantize(asymmetric_q, asymmetric_scale, asymmetric_zero)\n",
    "params_deq_symmetric = symmetric_dequantize(symmetric_q, symmetric_scale)\n",
    "\n",
    "print(f'Original:')\n",
    "print(np.round(params, 2))\n",
    "print('')\n",
    "print(f'Dequantize Asymmetric:')\n",
    "print(np.round(params_deq_asymmetric,2))\n",
    "print('')\n",
    "print(f'Dequantize Symmetric:')\n",
    "print(np.round(params_deq_symmetric, 2))"
   ]
  },
  {
   "cell_type": "markdown",
   "metadata": {},
   "source": [
    "### Calculate the quantization error\n"
   ]
  },
  {
   "cell_type": "code",
   "execution_count": 4,
   "metadata": {},
   "outputs": [
    {
     "name": "stdout",
     "output_type": "stream",
     "text": [
      "  Asymmetric error: 0.03\n",
      "   Symmetric error: 0.06\n"
     ]
    }
   ],
   "source": [
    "print(f'{\"Asymmetric error: \":>20}{np.round(quantization_error(params, params_deq_asymmetric), 2)}')\n",
    "print(f'{\"Symmetric error: \":>20}{np.round(quantization_error(params, params_deq_symmetric), 2)}')"
   ]
  },
  {
   "cell_type": "code",
   "execution_count": null,
   "metadata": {},
   "outputs": [],
   "source": []
  }
 ],
 "metadata": {
  "kernelspec": {
   "display_name": ".venv",
   "language": "python",
   "name": "python3"
  },
  "language_info": {
   "codemirror_mode": {
    "name": "ipython",
    "version": 3
   },
   "file_extension": ".py",
   "mimetype": "text/x-python",
   "name": "python",
   "nbconvert_exporter": "python",
   "pygments_lexer": "ipython3",
   "version": "3.12.6"
  }
 },
 "nbformat": 4,
 "nbformat_minor": 2
}
